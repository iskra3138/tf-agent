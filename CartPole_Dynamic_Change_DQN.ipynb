{
  "nbformat": 4,
  "nbformat_minor": 0,
  "metadata": {
    "colab": {
      "name": "CartPole_Dynamic_Change_FN.ipynb",
      "provenance": [],
      "collapsed_sections": [],
      "include_colab_link": true
    },
    "kernelspec": {
      "display_name": "Python 3",
      "name": "python3"
    }
  },
  "cells": [
    {
      "cell_type": "markdown",
      "metadata": {
        "id": "view-in-github",
        "colab_type": "text"
      },
      "source": [
        "<a href=\"https://colab.research.google.com/github/iskra3138/tf-agent/blob/main/CartPole_Dynamic_Change_DQN.ipynb\" target=\"_parent\"><img src=\"https://colab.research.google.com/assets/colab-badge.svg\" alt=\"Open In Colab\"/></a>"
      ]
    },
    {
      "cell_type": "markdown",
      "metadata": {
        "id": "4_16bQF0anmE"
      },
      "source": [
        "## Setup\n"
      ]
    },
    {
      "cell_type": "code",
      "metadata": {
        "id": "KKU2iY_7at8Y"
      },
      "source": [
        "!sudo apt-get install -y xvfb ffmpeg\n",
        "!pip install gym\n",
        "!pip install 'imageio==2.4.0'\n",
        "!pip install PILLOW\n",
        "!pip install pyglet\n",
        "!pip install pyvirtualdisplay\n",
        "!pip install tf-agents"
      ],
      "execution_count": null,
      "outputs": []
    },
    {
      "cell_type": "code",
      "metadata": {
        "id": "1ZAoFNwnRbKK"
      },
      "source": [
        "from __future__ import absolute_import\n",
        "from __future__ import division\n",
        "from __future__ import print_function\n",
        "\n",
        "import abc\n",
        "import tensorflow as tf\n",
        "import numpy as np\n",
        "\n",
        "from tf_agents.environments import py_environment\n",
        "from tf_agents.environments import tf_environment\n",
        "from tf_agents.environments import tf_py_environment\n",
        "from tf_agents.environments import utils\n",
        "from tf_agents.specs import array_spec\n",
        "from tf_agents.environments import wrappers\n",
        "from tf_agents.environments import suite_gym\n",
        "from tf_agents.trajectories import time_step as ts\n",
        "\n",
        "tf.compat.v1.enable_v2_behavior()"
      ],
      "execution_count": 2,
      "outputs": []
    },
    {
      "cell_type": "markdown",
      "metadata": {
        "id": "YSwkQcgfF1wx"
      },
      "source": [
        "# Custom_CartPole_Environment 정의\n",
        "\n",
        "- action으로 인해 발생하는 force_mag에 gaussian noise를 추가해서 deterministic dynamics를 stochastice dynamics로 변경 "
      ]
    },
    {
      "cell_type": "code",
      "metadata": {
        "id": "wcLXvjeoPM5Z"
      },
      "source": [
        "import math\n",
        "from gym.utils import seeding\n",
        "from gym import spaces, logger\n",
        "\n",
        "class CustomCartPoleEnv(py_environment.PyEnvironment):\n",
        "\n",
        "  def __init__(self, mu=0, sigma=0):\n",
        "    self.gravity = 9.8\n",
        "    self.masscart = 1.0\n",
        "    self.masspole = 0.1\n",
        "    self.total_mass = (self.masspole + self.masscart)\n",
        "    self.length = 0.5  # actually half the pole's length\n",
        "    self.polemass_length = (self.masspole * self.length)\n",
        "    self.force_mag = 10.0\n",
        "    self.tau = 0.02  # seconds between state updates\n",
        "    self.mu = mu\n",
        "    self.sigma = sigma\n",
        "    self.kinematics_integrator = 'euler'\n",
        "\n",
        "    # Angle at which to fail the episode\n",
        "    self.theta_threshold_radians = 12 * 2 * math.pi / 360\n",
        "    self.x_threshold = 2.4\n",
        "\n",
        "    # Angle limit set to 2 * theta_threshold_radians so failing observation\n",
        "    # is still within bounds.\n",
        "    high = np.array([self.x_threshold * 2,\n",
        "                      np.finfo(np.float32).max,\n",
        "                      self.theta_threshold_radians * 2,\n",
        "                      np.finfo(np.float32).max],\n",
        "                    dtype=np.float32)\n",
        "\n",
        "    #self.action_space = spaces.Discrete(2)\n",
        "    #self.observation_space = spaces.Box(-high, high, dtype=np.float32)\n",
        "\n",
        "    self.seed()\n",
        "    self.viewer = None\n",
        "    #self.state = None\n",
        "\n",
        "    self.steps_beyond_done = None\n",
        "\n",
        "    self._action_spec = array_spec.BoundedArraySpec(\n",
        "        shape=(), dtype=np.int32, minimum=0, maximum=1, name='action')\n",
        "    \n",
        "    self._observation_spec = array_spec.BoundedArraySpec(\n",
        "        shape=(4,), dtype=np.float32, minimum=-high, maximum= high, name='observation')\n",
        "    \n",
        "    self._state = None\n",
        "    self._episode_ended = False\n",
        "\n",
        "  def seed(self, seed=None):\n",
        "    self.np_random, seed = seeding.np_random(seed)\n",
        "    return [seed]\n",
        "\n",
        "  def action_spec(self):\n",
        "    return self._action_spec\n",
        "\n",
        "  def observation_spec(self):\n",
        "    return self._observation_spec\n",
        "\n",
        "  def _reset(self):\n",
        "    self._state = self.np_random.uniform(low=-0.05, high=0.05, size=(4,))\n",
        "\n",
        "    self.steps_beyond_done = None\n",
        "    self._episode_ended = False\n",
        "    return ts.restart(np.array(self._state, dtype=np.float32))\n",
        "\n",
        "  def _step(self, action):\n",
        "    # observation, reward, step_type, discount 를 반환함\n",
        "\n",
        "    if self._episode_ended:\n",
        "      # The last action ended the episode. Ignore the current action and start\n",
        "      # a new episode.\n",
        "      return self.reset()\n",
        "\n",
        "    err_msg = \"%r (%s) invalid\" % (action, type(action))\n",
        "    assert self._action_spec.check_array(action), err_msg\n",
        "\n",
        "    x, x_dot, theta, theta_dot = self._state\n",
        "    force = self.force_mag if action == 1 else -self.force_mag\n",
        "    ####### Stochastic을 위해 추가함 #############\n",
        "    force += np.random.normal(self.mu, self.sigma)\n",
        "\n",
        "    costheta = math.cos(theta)\n",
        "    sintheta = math.sin(theta)\n",
        "\n",
        "    # For the interested reader:\n",
        "    # https://coneural.org/florian/papers/05_cart_pole.pdf\n",
        "    temp = (force + self.polemass_length * theta_dot ** 2 * sintheta) / self.total_mass\n",
        "    thetaacc = (self.gravity * sintheta - costheta * temp) / (self.length * (4.0 / 3.0 - self.masspole * costheta ** 2 / self.total_mass))\n",
        "    xacc = temp - self.polemass_length * thetaacc * costheta / self.total_mass\n",
        "\n",
        "    if self.kinematics_integrator == 'euler':\n",
        "        x = x + self.tau * x_dot\n",
        "        x_dot = x_dot + self.tau * xacc\n",
        "        theta = theta + self.tau * theta_dot\n",
        "        theta_dot = theta_dot + self.tau * thetaacc\n",
        "    else:  # semi-implicit euler\n",
        "        x_dot = x_dot + self.tau * xacc\n",
        "        x = x + self.tau * x_dot\n",
        "        theta_dot = theta_dot + self.tau * thetaacc\n",
        "        theta = theta + self.tau * theta_dot\n",
        "\n",
        "    self._state = (x, x_dot, theta, theta_dot)\n",
        "\n",
        "    done = bool(\n",
        "        x < -self.x_threshold\n",
        "        or x > self.x_threshold\n",
        "        or theta < -self.theta_threshold_radians\n",
        "        or theta > self.theta_threshold_radians\n",
        "    )\n",
        "\n",
        "    if not done:\n",
        "        reward = 1.0\n",
        "    elif self.steps_beyond_done is None:\n",
        "        # Pole just fell!\n",
        "        self.steps_beyond_done = 0\n",
        "        reward = 1.0\n",
        "    else:\n",
        "        if self.steps_beyond_done == 0:\n",
        "            logger.warn(\n",
        "                \"You are calling 'step()' even though this \"\n",
        "                \"environment has already returned done = True. You \"\n",
        "                \"should always call 'reset()' once you receive 'done = \"\n",
        "                \"True' -- any further steps are undefined behavior.\"\n",
        "            )\n",
        "        self.steps_beyond_done += 1\n",
        "        reward = 0.0\n",
        "\n",
        "    #return np.array(self.state), reward, done, {}\n",
        "\n",
        "    if done:\n",
        "      return ts.termination(np.array(self._state, dtype=np.float32), reward)\n",
        "    else:\n",
        "      return ts.transition(\n",
        "          np.array(self._state, dtype=np.float32), reward)\n",
        "      \n",
        "  def render(self, mode='human'):\n",
        "    screen_width = 600\n",
        "    screen_height = 400\n",
        "\n",
        "    world_width = self.x_threshold * 2\n",
        "    scale = screen_width/world_width\n",
        "    carty = 100  # TOP OF CART\n",
        "    polewidth = 10.0\n",
        "    polelen = scale * (2 * self.length)\n",
        "    cartwidth = 50.0\n",
        "    cartheight = 30.0\n",
        "\n",
        "    if self.viewer is None:\n",
        "      from gym.envs.classic_control import rendering\n",
        "      self.viewer = rendering.Viewer(screen_width, screen_height)\n",
        "      l, r, t, b = -cartwidth / 2, cartwidth / 2, cartheight / 2, -cartheight / 2\n",
        "      axleoffset = cartheight / 4.0\n",
        "      cart = rendering.FilledPolygon([(l, b), (l, t), (r, t), (r, b)])\n",
        "      self.carttrans = rendering.Transform()\n",
        "      cart.add_attr(self.carttrans)\n",
        "      self.viewer.add_geom(cart)\n",
        "      l, r, t, b = -polewidth / 2, polewidth / 2, polelen - polewidth / 2, -polewidth / 2\n",
        "      pole = rendering.FilledPolygon([(l, b), (l, t), (r, t), (r, b)])\n",
        "      pole.set_color(.8, .6, .4)\n",
        "      self.poletrans = rendering.Transform(translation=(0, axleoffset))\n",
        "      pole.add_attr(self.poletrans)\n",
        "      pole.add_attr(self.carttrans)\n",
        "      self.viewer.add_geom(pole)\n",
        "      self.axle = rendering.make_circle(polewidth/2)\n",
        "      self.axle.add_attr(self.poletrans)\n",
        "      self.axle.add_attr(self.carttrans)\n",
        "      self.axle.set_color(.5, .5, .8)\n",
        "      self.viewer.add_geom(self.axle)\n",
        "      self.track = rendering.Line((0, carty), (screen_width, carty))\n",
        "      self.track.set_color(0, 0, 0)\n",
        "      self.viewer.add_geom(self.track)\n",
        "\n",
        "      self._pole_geom = pole\n",
        "\n",
        "    if self._state is None:\n",
        "      return None\n",
        "\n",
        "    # Edit the pole polygon vertex\n",
        "    pole = self._pole_geom\n",
        "    l, r, t, b = -polewidth / 2, polewidth / 2, polelen - polewidth / 2, -polewidth / 2\n",
        "    pole.v = [(l, b), (l, t), (r, t), (r, b)]\n",
        "\n",
        "    x = self._state\n",
        "    cartx = x[0] * scale + screen_width / 2.0  # MIDDLE OF CART\n",
        "    self.carttrans.set_translation(cartx, carty)\n",
        "    self.poletrans.set_rotation(-x[2])\n",
        "\n",
        "    return self.viewer.render(return_rgb_array=mode == 'rgb_array')\n",
        "\n",
        "  def close(self):\n",
        "    if self.viewer:\n",
        "      self.viewer.close()\n",
        "      self.viewer = None"
      ],
      "execution_count": 3,
      "outputs": []
    },
    {
      "cell_type": "code",
      "metadata": {
        "id": "r6VqM2EqZxtR"
      },
      "source": [
        "# Class 검증\n",
        "environment = CustomCartPoleEnv()\n",
        "environment.seed(1)\n",
        "utils.validate_py_environment(environment, episodes=5)"
      ],
      "execution_count": 4,
      "outputs": []
    },
    {
      "cell_type": "code",
      "metadata": {
        "colab": {
          "base_uri": "https://localhost:8080/"
        },
        "id": "tdNZtvPkT-D4",
        "outputId": "c6ebba68-3908-4682-ce43-632c043c193a"
      },
      "source": [
        "# seed 작동 확인\n",
        "for _ in range(3):\n",
        "  environment.seed(1)\n",
        "  print (environment.reset())"
      ],
      "execution_count": 5,
      "outputs": [
        {
          "output_type": "stream",
          "text": [
            "TimeStep(step_type=array(0, dtype=int32), reward=array(0., dtype=float32), discount=array(1., dtype=float32), observation=array([ 0.03073904,  0.00145001, -0.03088818, -0.03131252], dtype=float32))\n",
            "TimeStep(step_type=array(0, dtype=int32), reward=array(0., dtype=float32), discount=array(1., dtype=float32), observation=array([ 0.03073904,  0.00145001, -0.03088818, -0.03131252], dtype=float32))\n",
            "TimeStep(step_type=array(0, dtype=int32), reward=array(0., dtype=float32), discount=array(1., dtype=float32), observation=array([ 0.03073904,  0.00145001, -0.03088818, -0.03131252], dtype=float32))\n"
          ],
          "name": "stdout"
        }
      ]
    },
    {
      "cell_type": "code",
      "metadata": {
        "colab": {
          "base_uri": "https://localhost:8080/"
        },
        "id": "YYNHUByccYre",
        "outputId": "da114fd6-3ba7-405b-b623-28672ce5f52e"
      },
      "source": [
        "# dynamics 작동 확인\n",
        "environment = CustomCartPoleEnv(mu=0, sigma=0.5)\n",
        "for _ in range(3):\n",
        "  environment.seed(1)\n",
        "  step = environment.reset()\n",
        "  next_step = environment.step(np.array(0, dtype=np.int32))\n",
        "  print (step.observation, '- >', next_step.observation)"
      ],
      "execution_count": 6,
      "outputs": [
        {
          "output_type": "stream",
          "text": [
            "[ 0.03073904  0.00145001 -0.03088818 -0.03131252] - > [ 0.03076804 -0.19988896 -0.03151444  0.26147217]\n",
            "[ 0.03073904  0.00145001 -0.03088818 -0.03131252] - > [ 0.03076804 -0.19446838 -0.03151444  0.2533452 ]\n",
            "[ 0.03073904  0.00145001 -0.03088818 -0.03131252] - > [ 0.03076804 -0.179153   -0.03151444  0.23038308]\n"
          ],
          "name": "stdout"
        }
      ]
    },
    {
      "cell_type": "code",
      "metadata": {
        "colab": {
          "base_uri": "https://localhost:8080/"
        },
        "id": "62-Xqglljy6t",
        "outputId": "13261fe3-cba2-458c-f40f-de6c32303e6e"
      },
      "source": [
        "# Episode 작동 확인 (deterministic dynamics)\n",
        "environment = CustomCartPoleEnv(mu=0, sigma=0.0)\n",
        "\n",
        "for _ in range(3) :\n",
        "  environment.seed(1)\n",
        "\n",
        "  time_step = environment.reset()\n",
        "  #print(time_step)\n",
        "  i = 0\n",
        "  cumulative_reward = 0\n",
        "  while not time_step.is_last():\n",
        "    action = np.array(i % 2, dtype=np.int32)\n",
        "    i+=1\n",
        "    time_step = environment.step(action)\n",
        "    #print(time_step)\n",
        "    cumulative_reward += time_step.reward\n",
        "\n",
        "  print (cumulative_reward)"
      ],
      "execution_count": 7,
      "outputs": [
        {
          "output_type": "stream",
          "text": [
            "64.0\n",
            "64.0\n",
            "64.0\n"
          ],
          "name": "stdout"
        }
      ]
    },
    {
      "cell_type": "code",
      "metadata": {
        "colab": {
          "base_uri": "https://localhost:8080/"
        },
        "id": "hA16sBp4jy4O",
        "outputId": "36413460-4564-464d-fbf7-fecaa3670634"
      },
      "source": [
        "# Episode 작동 확인 (stochastic dynamics)\n",
        "environment = CustomCartPoleEnv(mu=0, sigma=1.0)\n",
        "\n",
        "for _ in range(3) :\n",
        "  environment.seed(1)\n",
        "\n",
        "  time_step = environment.reset()\n",
        "  #print(time_step)\n",
        "  i = 0\n",
        "  cumulative_reward = 0\n",
        "  while not time_step.is_last():\n",
        "    action = np.array(i % 2, dtype=np.int32)\n",
        "    i+=1\n",
        "    time_step = environment.step(action)\n",
        "    #print(time_step)\n",
        "    cumulative_reward += time_step.reward\n",
        "\n",
        "  print (cumulative_reward)"
      ],
      "execution_count": 8,
      "outputs": [
        {
          "output_type": "stream",
          "text": [
            "31.0\n",
            "33.0\n",
            "50.0\n"
          ],
          "name": "stdout"
        }
      ]
    },
    {
      "cell_type": "markdown",
      "metadata": {
        "id": "2iiae9BnJgo3"
      },
      "source": [
        "# DQN 학습 예제"
      ]
    },
    {
      "cell_type": "code",
      "metadata": {
        "id": "-1Bv5SXkl8WO"
      },
      "source": [
        "from __future__ import absolute_import, division, print_function\n",
        "\n",
        "import base64\n",
        "import imageio\n",
        "import IPython\n",
        "import matplotlib\n",
        "import matplotlib.pyplot as plt\n",
        "import numpy as np\n",
        "import PIL.Image\n",
        "import pyvirtualdisplay\n",
        "\n",
        "import tensorflow as tf\n",
        "\n",
        "\n",
        "from tf_agents.drivers import dynamic_step_driver\n",
        "\n",
        "from tf_agents.environments import tf_py_environment\n",
        "from tf_agents.eval import metric_utils\n",
        "from tf_agents.metrics import tf_metrics\n",
        "\n",
        "from tf_agents.policies import random_tf_policy\n",
        "\n",
        "from tf_agents.trajectories import trajectory\n",
        "from tf_agents.utils import common"
      ],
      "execution_count": 9,
      "outputs": []
    },
    {
      "cell_type": "code",
      "metadata": {
        "id": "-j4P1NZil8mf"
      },
      "source": [
        "tf.compat.v1.enable_v2_behavior()\n",
        "\n",
        "# Set up a virtual display for rendering OpenAI gym environments.\n",
        "display = pyvirtualdisplay.Display(visible=0, size=(1400, 900)).start()"
      ],
      "execution_count": 10,
      "outputs": []
    },
    {
      "cell_type": "markdown",
      "metadata": {
        "id": "dVskfO1cJpZc"
      },
      "source": [
        "### Hyperparameters 정의"
      ]
    },
    {
      "cell_type": "code",
      "metadata": {
        "id": "p1PcYxWml8rg"
      },
      "source": [
        "num_iterations = 20000 # @param {type:\"integer\"}\n",
        "\n",
        "# 데이터 수집 관련 Hyperparameters\n",
        "initial_collect_steps = 100  # @param {type:\"integer\"} \n",
        "collect_steps_per_iteration = 1  # @param {type:\"integer\"}\n",
        "replay_buffer_max_length = 100000  # @param {type:\"integer\"}\n",
        "\n",
        "\n",
        "batch_size = 64  # @param {type:\"integer\"}\n",
        "learning_rate = 1e-3  # @param {type:\"number\"}\n",
        "\n",
        "# 학습할 때, 몇 번에 한번씩 log값을 찍어볼 것인가?\n",
        "log_interval = 200  # @param {type:\"integer\"}\n",
        "\n",
        "# 평가할 때 몇 개의 Episode로 Average Return을 구할 것인가?\n",
        "num_eval_episodes = 10  # @param {type:\"integer\"}\n",
        "\n",
        "# 학습할 때, 몇 번에 한번씩 평가해볼 것인가?\n",
        "eval_interval = 1000  # @param {type:\"integer\"}"
      ],
      "execution_count": 11,
      "outputs": []
    },
    {
      "cell_type": "markdown",
      "metadata": {
        "id": "vQAdE0E7JuoA"
      },
      "source": [
        "### Environments 선언"
      ]
    },
    {
      "cell_type": "code",
      "metadata": {
        "id": "59LKzT5rmHs7"
      },
      "source": [
        "# Source 환경을 평균 0, 표준편차 0.5로 정의 \n",
        "train_py_env = CustomCartPoleEnv(mu=0.0, sigma = 0.5)\n",
        "eval_py_env = CustomCartPoleEnv(mu=0.0, sigma = 0.5)"
      ],
      "execution_count": 12,
      "outputs": []
    },
    {
      "cell_type": "code",
      "metadata": {
        "id": "JddYEVM68wUk"
      },
      "source": [
        "# 최대 200까지의 Limit이 있으므로, TimeLimit wrapper로 wrapping\n",
        "train_py_env = wrappers.TimeLimit(train_py_env, 200)\n",
        "eval_py_env = wrappers.TimeLimit(eval_py_env, 200)"
      ],
      "execution_count": 13,
      "outputs": []
    },
    {
      "cell_type": "code",
      "metadata": {
        "id": "fM3nKHBpmHqK"
      },
      "source": [
        "# python enviroment를 TF environment로 변환\n",
        "train_env = tf_py_environment.TFPyEnvironment(train_py_env)\n",
        "eval_env = tf_py_environment.TFPyEnvironment(eval_py_env)"
      ],
      "execution_count": 14,
      "outputs": []
    },
    {
      "cell_type": "markdown",
      "metadata": {
        "id": "fb-L35qMKKxa"
      },
      "source": [
        "### Agent 정의"
      ]
    },
    {
      "cell_type": "markdown",
      "metadata": {
        "id": "ufXzRf2bKUyq"
      },
      "source": [
        "##### Q Network 정의"
      ]
    },
    {
      "cell_type": "code",
      "metadata": {
        "id": "NMEGfxg6l8R5"
      },
      "source": [
        "from tf_agents.networks import q_network\n",
        "\n",
        "fc_layer_params = (100,)\n",
        "\n",
        "# input에 해당되는 observation_spec과 action_spec을 인수로 전달\n",
        "q_net = q_network.QNetwork(\n",
        "    train_env.observation_spec(),\n",
        "    train_env.action_spec(),\n",
        "    fc_layer_params=fc_layer_params)"
      ],
      "execution_count": 15,
      "outputs": []
    },
    {
      "cell_type": "markdown",
      "metadata": {
        "id": "cmdived3KZXn"
      },
      "source": [
        "##### DQN Agent 선언"
      ]
    },
    {
      "cell_type": "code",
      "metadata": {
        "id": "iIKla9ell8PC"
      },
      "source": [
        "from tf_agents.agents.dqn import dqn_agent\n",
        "\n",
        "optimizer = tf.compat.v1.train.AdamOptimizer(learning_rate=learning_rate)\n",
        "\n",
        "train_step_counter = tf.Variable(0)\n",
        "\n",
        "agent = dqn_agent.DqnAgent(\n",
        "    train_env.time_step_spec(),\n",
        "    train_env.action_spec(),\n",
        "    q_network=q_net,\n",
        "    optimizer=optimizer,\n",
        "    td_errors_loss_fn=common.element_wise_squared_loss,\n",
        "    train_step_counter=train_step_counter)\n",
        "\n",
        "agent.initialize()"
      ],
      "execution_count": 16,
      "outputs": []
    },
    {
      "cell_type": "markdown",
      "metadata": {
        "id": "dbRNS6YDKpCa"
      },
      "source": [
        "##### policy 정의"
      ]
    },
    {
      "cell_type": "code",
      "metadata": {
        "id": "DkKiZSKMl8Mn"
      },
      "source": [
        "# 성능 평가를 위한 policy와 data collection을 위한 policy를 각각 선언함\n",
        "eval_policy = agent.policy\n",
        "collect_policy = agent.collect_policy"
      ],
      "execution_count": 17,
      "outputs": []
    },
    {
      "cell_type": "code",
      "metadata": {
        "id": "1jfmMNUUl8Ku"
      },
      "source": [
        "# 다음과 같이 random policy도 정의할 수 있음\n",
        "random_policy = random_tf_policy.RandomTFPolicy(train_env.time_step_spec(),\n",
        "                                                train_env.action_spec())"
      ],
      "execution_count": 18,
      "outputs": []
    },
    {
      "cell_type": "markdown",
      "metadata": {
        "id": "-cTTri1UK30F"
      },
      "source": [
        "### Metrics and Evaluation 정의\n",
        "- environment, policy, 테스트 해볼 episode의 수가 주어졌을 때, 해당 policy를 따르는 average return 구하는 함수 정의"
      ]
    },
    {
      "cell_type": "code",
      "metadata": {
        "id": "qYEuOaSQl8II"
      },
      "source": [
        "#@test {\"skip\": true}\n",
        "def compute_avg_return(environment, policy, num_episodes=10):\n",
        "\n",
        "  total_return = 0.0\n",
        "  for _ in range(num_episodes):\n",
        "\n",
        "    time_step = environment.reset()\n",
        "    episode_return = 0.0\n",
        "\n",
        "    while not time_step.is_last(): # 종료 조건을 만족하지 않았다면, \n",
        "      action_step = policy.action(time_step) # 해당 state에서 policy를 따르는 action 선택\n",
        "      time_step = environment.step(action_step.action) # action으로 인한 다음 state 선택\n",
        "      episode_return += time_step.reward # 얻게되는 Reward 합산(여기서는 감가율 적용 안함)\n",
        "    total_return += episode_return # 전체 에피소드의 Return 합\n",
        "\n",
        "  avg_return = total_return / num_episodes # Average Return 구하기\n",
        "  return avg_return.numpy()[0]\n",
        "\n",
        "\n",
        "# See also the metrics module for standard implementations of different metrics.\n",
        "# https://github.com/tensorflow/agents/tree/master/tf_agents/metrics"
      ],
      "execution_count": 19,
      "outputs": []
    },
    {
      "cell_type": "code",
      "metadata": {
        "colab": {
          "base_uri": "https://localhost:8080/"
        },
        "id": "frl6Qj43YE8M",
        "outputId": "30cd8063-4417-4d32-938a-a61d111bfea5"
      },
      "source": [
        "# Random Policy 평가 (200점 만점)\n",
        "compute_avg_return(eval_env, random_policy, num_eval_episodes)"
      ],
      "execution_count": 20,
      "outputs": [
        {
          "output_type": "execute_result",
          "data": {
            "text/plain": [
              "20.5"
            ]
          },
          "metadata": {
            "tags": []
          },
          "execution_count": 20
        }
      ]
    },
    {
      "cell_type": "markdown",
      "metadata": {
        "id": "m9GRlNoOLC5W"
      },
      "source": [
        "### replay buffer 정의"
      ]
    },
    {
      "cell_type": "code",
      "metadata": {
        "id": "qArIESTBT-GF"
      },
      "source": [
        "from tf_agents.replay_buffers import tf_uniform_replay_buffer\n",
        "\n",
        "replay_buffer = tf_uniform_replay_buffer.TFUniformReplayBuffer(\n",
        "    data_spec=agent.collect_data_spec, # agent에 따른 collect_data_spec 전달 (아래 Code 셀 참조)\n",
        "    batch_size=train_env.batch_size, # 여기에서는 1\n",
        "    max_length=replay_buffer_max_length) # 입력받는 Hyperparameter"
      ],
      "execution_count": 21,
      "outputs": []
    },
    {
      "cell_type": "markdown",
      "metadata": {
        "id": "YARWbeN_LJYJ"
      },
      "source": [
        "### data collection 정의"
      ]
    },
    {
      "cell_type": "code",
      "metadata": {
        "id": "89kqjBE_T-AS"
      },
      "source": [
        "#@test {\"skip\": true}\n",
        "def collect_step(environment, policy, buffer):\n",
        "  time_step = environment.current_time_step() #현재 Time Step \n",
        "  action_step = policy.action(time_step) # 현재 Time Step에서 policy에 의한 action\n",
        "  next_time_step = environment.step(action_step.action) # 해당 action으로 인한 next state\n",
        "  traj = trajectory.from_transition(time_step, action_step, next_time_step) # s,a,s' 쌍\n",
        "\n",
        "  # Add trajectory to the replay buffer\n",
        "  buffer.add_batch(traj)\n",
        "\n",
        "def collect_data(env, policy, buffer, steps):\n",
        "  for _ in range(steps):\n",
        "    collect_step(env, policy, buffer)\n",
        "\n",
        "collect_data(train_env, random_policy, replay_buffer, initial_collect_steps)\n",
        "\n",
        "# This loop is so common in RL, that we provide standard implementations. \n",
        "# For more details see the drivers module.\n",
        "# https://www.tensorflow.org/agents/api_docs/python/tf_agents/drivers"
      ],
      "execution_count": 22,
      "outputs": []
    },
    {
      "cell_type": "markdown",
      "metadata": {
        "id": "z8Pvj8mbLfaX"
      },
      "source": [
        "### dataset 정의"
      ]
    },
    {
      "cell_type": "code",
      "metadata": {
        "colab": {
          "base_uri": "https://localhost:8080/"
        },
        "id": "gA9navyEUhoG",
        "outputId": "31ff05da-e63a-41cb-ff49-9786a3f030ba"
      },
      "source": [
        "# Dataset generates trajectories with shape [Bx2x...]\n",
        "dataset = replay_buffer.as_dataset(\n",
        "    num_parallel_calls=3, # 병렬 실행을 위한 개수\n",
        "    sample_batch_size=1, # 샘플 배치의 수\n",
        "    num_steps=2) # 두개의 쌍으로 s,a,s'을 만들겠다.\n",
        "\n",
        "dataset = dataset.prefetch(3) # 미리 가져오는 개수\n",
        "\n",
        "iterator = iter(dataset)\n",
        "print(iterator.next())"
      ],
      "execution_count": 23,
      "outputs": [
        {
          "output_type": "stream",
          "text": [
            "WARNING:tensorflow:From /usr/local/lib/python3.6/dist-packages/tensorflow/python/autograph/operators/control_flow.py:1004: ReplayBuffer.get_next (from tf_agents.replay_buffers.replay_buffer) is deprecated and will be removed in a future version.\n",
            "Instructions for updating:\n",
            "Use `as_dataset(..., single_deterministic_pass=False) instead.\n",
            "(Trajectory(step_type=<tf.Tensor: shape=(1, 2), dtype=int32, numpy=array([[1, 1]], dtype=int32)>, observation=<tf.Tensor: shape=(1, 2, 4), dtype=float32, numpy=\n",
            "array([[[ 0.07312189,  0.9863106 , -0.07837692, -1.4277458 ],\n",
            "        [ 0.0928481 ,  1.1819082 , -0.10693184, -1.7432609 ]]],\n",
            "      dtype=float32)>, action=<tf.Tensor: shape=(1, 2), dtype=int32, numpy=array([[1, 1]], dtype=int32)>, policy_info=(), next_step_type=<tf.Tensor: shape=(1, 2), dtype=int32, numpy=array([[1, 1]], dtype=int32)>, reward=<tf.Tensor: shape=(1, 2), dtype=float32, numpy=array([[1., 1.]], dtype=float32)>, discount=<tf.Tensor: shape=(1, 2), dtype=float32, numpy=array([[1., 1.]], dtype=float32)>), BufferInfo(ids=<tf.Tensor: shape=(1, 2), dtype=int64, numpy=array([[64, 65]])>, probabilities=<tf.Tensor: shape=(1,), dtype=float32, numpy=array([0.01010101], dtype=float32)>))\n"
          ],
          "name": "stdout"
        }
      ]
    },
    {
      "cell_type": "markdown",
      "metadata": {
        "id": "lZt3js0ALmUg"
      },
      "source": [
        "### training"
      ]
    },
    {
      "cell_type": "code",
      "metadata": {
        "id": "FILylafAkMEx",
        "colab": {
          "base_uri": "https://localhost:8080/"
        },
        "outputId": "65b47b31-2796-4afd-9f8b-d7891ba22ec9"
      },
      "source": [
        "#@test {\"skip\": true}\n",
        "try:\n",
        "  %%time\n",
        "except:\n",
        "  pass\n",
        "\n",
        "dataset = replay_buffer.as_dataset(\n",
        "  num_parallel_calls=3, \n",
        "  sample_batch_size=batch_size, \n",
        "  num_steps=2).prefetch(3)\n",
        "iterator = iter(dataset)\n",
        "\n",
        "\n",
        "# (Optional) Optimize by wrapping some of the code in a graph using TF function.\n",
        "agent.train = common.function(agent.train)\n",
        "\n",
        "# Reset the train step\n",
        "agent.train_step_counter.assign(0)\n",
        "\n",
        "# Evaluate the agent's policy once before training.\n",
        "avg_return = compute_avg_return(eval_env, agent.policy, num_eval_episodes)\n",
        "returns = [avg_return]\n",
        "\n",
        "for _ in range(num_iterations):\n",
        "\n",
        "  # Collect a few steps using collect_policy and save to the replay buffer.\n",
        "  collect_data(train_env, agent.collect_policy, replay_buffer, collect_steps_per_iteration)\n",
        "\n",
        "  # Sample a batch of data from the buffer and update the agent's network.\n",
        "  experience, unused_info = next(iterator)\n",
        "  train_loss = agent.train(experience).loss\n",
        "\n",
        "  step = agent.train_step_counter.numpy()\n",
        "\n",
        "  if step % log_interval == 0:\n",
        "    print('step = {0}: loss = {1}'.format(step, train_loss))\n",
        "\n",
        "  if step % eval_interval == 0:\n",
        "    avg_return = compute_avg_return(eval_env, agent.policy, num_eval_episodes)\n",
        "    print('step = {0}: Average Return = {1}'.format(step, avg_return))\n",
        "    returns.append(avg_return)"
      ],
      "execution_count": 31,
      "outputs": [
        {
          "output_type": "stream",
          "text": [
            "CPU times: user 5 µs, sys: 0 ns, total: 5 µs\n",
            "Wall time: 9.3 µs\n",
            "step = 200: loss = 23.327909469604492\n",
            "step = 400: loss = 1466.0062255859375\n",
            "step = 600: loss = 105.11148071289062\n",
            "step = 800: loss = 2438.94921875\n",
            "step = 1000: loss = 42.48419952392578\n",
            "step = 1000: Average Return = 170.10000610351562\n",
            "step = 1200: loss = 760.6893310546875\n",
            "step = 1400: loss = 51.90830993652344\n",
            "step = 1600: loss = 932.048583984375\n",
            "step = 1800: loss = 180.5321502685547\n",
            "step = 2000: loss = 57.85831069946289\n",
            "step = 2000: Average Return = 183.1999969482422\n",
            "step = 2200: loss = 1238.6910400390625\n",
            "step = 2400: loss = 667.138671875\n",
            "step = 2600: loss = 48.888397216796875\n",
            "step = 2800: loss = 1499.913818359375\n",
            "step = 3000: loss = 54.620723724365234\n",
            "step = 3000: Average Return = 192.89999389648438\n",
            "step = 3200: loss = 45.12383270263672\n",
            "step = 3400: loss = 41.34120178222656\n",
            "step = 3600: loss = 49.523223876953125\n",
            "step = 3800: loss = 1297.9156494140625\n",
            "step = 4000: loss = 124.95569610595703\n",
            "step = 4000: Average Return = 175.89999389648438\n",
            "step = 4200: loss = 59.95793151855469\n",
            "step = 4400: loss = 190.2063446044922\n",
            "step = 4600: loss = 676.8280029296875\n",
            "step = 4800: loss = 40.261009216308594\n",
            "step = 5000: loss = 64.77069091796875\n",
            "step = 5000: Average Return = 182.3000030517578\n",
            "step = 5200: loss = 1215.0377197265625\n",
            "step = 5400: loss = 2526.3173828125\n",
            "step = 5600: loss = 1408.7188720703125\n",
            "step = 5800: loss = 103.96883392333984\n",
            "step = 6000: loss = 104.78366088867188\n",
            "step = 6000: Average Return = 184.89999389648438\n",
            "step = 6200: loss = 58.90876770019531\n",
            "step = 6400: loss = 27.25170135498047\n",
            "step = 6600: loss = 95.2925796508789\n",
            "step = 6800: loss = 827.4822387695312\n",
            "step = 7000: loss = 42.76749038696289\n",
            "step = 7000: Average Return = 176.0\n",
            "step = 7200: loss = 30.330671310424805\n",
            "step = 7400: loss = 36.41748046875\n",
            "step = 7600: loss = 37.7371940612793\n",
            "step = 7800: loss = 90.9304428100586\n",
            "step = 8000: loss = 73.36759185791016\n",
            "step = 8000: Average Return = 172.8000030517578\n",
            "step = 8200: loss = 443.478515625\n",
            "step = 8400: loss = 68.90126037597656\n",
            "step = 8600: loss = 64.39544677734375\n",
            "step = 8800: loss = 85.1776351928711\n",
            "step = 9000: loss = 927.3629760742188\n",
            "step = 9000: Average Return = 192.1999969482422\n",
            "step = 9200: loss = 1249.3265380859375\n",
            "step = 9400: loss = 93.16566467285156\n",
            "step = 9600: loss = 52.52333068847656\n",
            "step = 9800: loss = 54.12797546386719\n",
            "step = 10000: loss = 72.48556518554688\n",
            "step = 10000: Average Return = 184.89999389648438\n",
            "step = 10200: loss = 26.537147521972656\n",
            "step = 10400: loss = 40.57628631591797\n",
            "step = 10600: loss = 913.3671875\n",
            "step = 10800: loss = 57.34735107421875\n",
            "step = 11000: loss = 113.1923828125\n",
            "step = 11000: Average Return = 179.5\n",
            "step = 11200: loss = 67.4639892578125\n",
            "step = 11400: loss = 113.057373046875\n",
            "step = 11600: loss = 2744.4658203125\n",
            "step = 11800: loss = 60.3956298828125\n",
            "step = 12000: loss = 84.44242858886719\n",
            "step = 12000: Average Return = 172.89999389648438\n",
            "step = 12200: loss = 76.77180480957031\n",
            "step = 12400: loss = 2147.2421875\n",
            "step = 12600: loss = 32.40606689453125\n",
            "step = 12800: loss = 390.035888671875\n",
            "step = 13000: loss = 103.61540985107422\n",
            "step = 13000: Average Return = 179.39999389648438\n",
            "step = 13200: loss = 8592.1396484375\n",
            "step = 13400: loss = 1104.0863037109375\n",
            "step = 13600: loss = 129.5511932373047\n",
            "step = 13800: loss = 36.059730529785156\n",
            "step = 14000: loss = 37.82530975341797\n",
            "step = 14000: Average Return = 192.39999389648438\n",
            "step = 14200: loss = 1049.69580078125\n",
            "step = 14400: loss = 74.51774597167969\n",
            "step = 14600: loss = 132.33103942871094\n",
            "step = 14800: loss = 259.8484802246094\n",
            "step = 15000: loss = 104.69060516357422\n",
            "step = 15000: Average Return = 190.39999389648438\n",
            "step = 15200: loss = 148.45697021484375\n",
            "step = 15400: loss = 440.68304443359375\n",
            "step = 15600: loss = 112.8525161743164\n",
            "step = 15800: loss = 164.5823974609375\n",
            "step = 16000: loss = 2779.112548828125\n",
            "step = 16000: Average Return = 191.3000030517578\n",
            "step = 16200: loss = 79.4149169921875\n",
            "step = 16400: loss = 69.07767486572266\n",
            "step = 16600: loss = 88.55409240722656\n",
            "step = 16800: loss = 90.19927215576172\n",
            "step = 17000: loss = 827.2518310546875\n",
            "step = 17000: Average Return = 188.1999969482422\n",
            "step = 17200: loss = 102.80132293701172\n",
            "step = 17400: loss = 77.65486145019531\n",
            "step = 17600: loss = 25.13488006591797\n",
            "step = 17800: loss = 115.26158905029297\n",
            "step = 18000: loss = 117.62368774414062\n",
            "step = 18000: Average Return = 180.39999389648438\n",
            "step = 18200: loss = 1010.916748046875\n",
            "step = 18400: loss = 61.3856315612793\n",
            "step = 18600: loss = 72.12096405029297\n",
            "step = 18800: loss = 48.35775375366211\n",
            "step = 19000: loss = 1517.010009765625\n",
            "step = 19000: Average Return = 176.0\n",
            "step = 19200: loss = 4965.73974609375\n",
            "step = 19400: loss = 1008.6111450195312\n",
            "step = 19600: loss = 56.561065673828125\n",
            "step = 19800: loss = 117.53982543945312\n",
            "step = 20000: loss = 154.94778442382812\n",
            "step = 20000: Average Return = 177.6999969482422\n"
          ],
          "name": "stdout"
        }
      ]
    },
    {
      "cell_type": "markdown",
      "metadata": {
        "id": "RRLnE35ALw1N"
      },
      "source": [
        "### Visualization - Plot"
      ]
    },
    {
      "cell_type": "code",
      "metadata": {
        "id": "AJxEoZ4HoyjR",
        "colab": {
          "base_uri": "https://localhost:8080/",
          "height": 300
        },
        "outputId": "9a998f86-dab5-4a6d-abef-803489123e03"
      },
      "source": [
        "#@test {\"skip\": true}\n",
        "\n",
        "iterations = range(0, num_iterations + 1, eval_interval)\n",
        "plt.plot(iterations, returns)\n",
        "plt.ylabel('Average Return')\n",
        "plt.xlabel('Iterations')\n",
        "plt.ylim(top=250)"
      ],
      "execution_count": 32,
      "outputs": [
        {
          "output_type": "execute_result",
          "data": {
            "text/plain": [
              "(168.9600067138672, 250.0)"
            ]
          },
          "metadata": {
            "tags": []
          },
          "execution_count": 32
        },
        {
          "output_type": "display_data",
          "data": {
            "image/png": "[encoded data removed]",
            "text/plain": [
              "<Figure size 432x288 with 1 Axes>"
            ]
          },
          "metadata": {
            "tags": [],
            "needs_background": "light"
          }
        }
      ]
    },
    {
      "cell_type": "markdown",
      "metadata": {
        "id": "BE8jLTxEL30m"
      },
      "source": [
        "### Visualization - Videos"
      ]
    },
    {
      "cell_type": "code",
      "metadata": {
        "id": "WKBDDZqKTxsL"
      },
      "source": [
        "def embed_mp4(filename):\n",
        "  \"\"\"Embeds an mp4 file in the notebook.\"\"\"\n",
        "  video = open(filename,'rb').read()\n",
        "  b64 = base64.b64encode(video)\n",
        "  tag = '''\n",
        "  <video width=\"640\" height=\"480\" controls>\n",
        "    <source src=\"data:video/mp4;base64,{0}\" type=\"video/mp4\">\n",
        "  Your browser does not support the video tag.\n",
        "  </video>'''.format(b64.decode())\n",
        "\n",
        "  return IPython.display.HTML(tag)"
      ],
      "execution_count": 33,
      "outputs": []
    },
    {
      "cell_type": "code",
      "metadata": {
        "id": "UYerqyNfnVRL",
        "colab": {
          "base_uri": "https://localhost:8080/"
        },
        "outputId": "aec6c009-fee4-4036-9d16-e62ab2a81912"
      },
      "source": [
        "def create_policy_eval_video(policy, filename, num_episodes=5, fps=30):\n",
        "  filename = filename + \".mp4\"\n",
        "  with imageio.get_writer(filename, fps=fps) as video:\n",
        "    for _ in range(num_episodes):\n",
        "      time_step = eval_env.reset()\n",
        "      video.append_data(eval_env.render()[0].numpy())\n",
        "      while not time_step.is_last():\n",
        "        action_step = policy.action(time_step)\n",
        "        time_step = eval_env.step(action_step.action)\n",
        "        video.append_data(eval_env.render()[0].numpy())\n",
        "  return embed_mp4(filename)\n",
        "\n",
        "\n",
        "create_policy_eval_video(agent.policy, \"trained-agent\")"
      ],
      "execution_count": null,
      "outputs": [
        {
          "output_type": "stream",
          "text": [
            "WARNING:root:IMAGEIO FFMPEG_WRITER WARNING: input image is not divisible by macro_block_size=16, resizing from (400, 600) to (400, 608) to ensure video compatibility with most codecs and players. To prevent resizing, make your input image divisible by the macro_block_size or set the macro_block_size to None (risking incompatibility). You may also see a FFMPEG warning concerning speedloss due to data not being aligned.\n"
          ],
          "name": "stderr"
        }
      ]
    },
    {
      "cell_type": "code",
      "metadata": {
        "id": "gdvFqUqbdB7u"
      },
      "source": [
        "# 참고로 random plicy에 대해서도 확인해 봄\n",
        "create_policy_eval_video(random_policy, \"random-agent\")"
      ],
      "execution_count": null,
      "outputs": []
    },
    {
      "cell_type": "markdown",
      "metadata": {
        "id": "A4tzfaswMBUK"
      },
      "source": [
        "# Another Dynamics 환경 고려 테스트"
      ]
    },
    {
      "cell_type": "markdown",
      "metadata": {
        "id": "4yrOPgGVPNPz"
      },
      "source": [
        "평균은 Source와 같을 것으로 가정함"
      ]
    },
    {
      "cell_type": "code",
      "metadata": {
        "id": "1s7a9I_VPV1n"
      },
      "source": [
        "# mu=0.0으로 고정\n",
        "sigmas = [0.0, 1.0, 3.0, 5.0, 10.0]\n",
        "for sigma in sigmas :\n",
        "  trg_py_env = CustomCartPoleEnv(mu=0.0, sigma = sigma)\n",
        "  trg_py_env = wrappers.TimeLimit(trg_py_env, 200)\n",
        "  trg_env = tf_py_environment.TFPyEnvironment(trg_py_env)\n",
        "  avg = compute_avg_return(trg_env, agent.policy, num_eval_episodes)\n",
        "  print (sigma, '->', avg)"
      ],
      "execution_count": null,
      "outputs": []
    },
    {
      "cell_type": "markdown",
      "metadata": {
        "id": "OF-GvDBRPFHR"
      },
      "source": [
        "CartPole은 너무 단순해서 적합한 환경이 아님"
      ]
    },
    {
      "cell_type": "code",
      "metadata": {
        "id": "aBL1fZGNDPTx"
      },
      "source": [
        ""
      ],
      "execution_count": 32,
      "outputs": []
    }
  ]
}