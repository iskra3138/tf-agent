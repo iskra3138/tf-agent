{
  "nbformat": 4,
  "nbformat_minor": 0,
  "metadata": {
    "colab": {
      "name": "CartPole_Dynamic_Change_DQN_TF_Agents.ipynb",
      "provenance": [],
      "collapsed_sections": [],
      "toc_visible": true,
      "include_colab_link": true
    },
    "kernelspec": {
      "display_name": "Python 3",
      "name": "python3"
    }
  },
  "cells": [
    {
      "cell_type": "markdown",
      "metadata": {
        "id": "view-in-github",
        "colab_type": "text"
      },
      "source": [
        "<a href=\"https://colab.research.google.com/github/iskra3138/tf-agent/blob/main/CartPole_Dynamic_Change_DQN_TF_Agents.ipynb\" target=\"_parent\"><img src=\"https://colab.research.google.com/assets/colab-badge.svg\" alt=\"Open In Colab\"/></a>"
      ]
    },
    {
      "cell_type": "markdown",
      "metadata": {
        "id": "4_16bQF0anmE"
      },
      "source": [
        "## Setup\n"
      ]
    },
    {
      "cell_type": "code",
      "metadata": {
        "id": "KKU2iY_7at8Y"
      },
      "source": [
        "!sudo apt-get install -y xvfb ffmpeg\n",
        "!pip install gym\n",
        "!pip install 'imageio==2.4.0'\n",
        "!pip install PILLOW\n",
        "!pip install pyglet\n",
        "!pip install pyvirtualdisplay\n",
        "!pip install tf-agents"
      ],
      "execution_count": null,
      "outputs": []
    },
    {
      "cell_type": "code",
      "metadata": {
        "id": "1ZAoFNwnRbKK"
      },
      "source": [
        "from __future__ import absolute_import\n",
        "from __future__ import division\n",
        "from __future__ import print_function\n",
        "\n",
        "import abc\n",
        "import tensorflow as tf\n",
        "import numpy as np\n",
        "\n",
        "from tf_agents.environments import py_environment\n",
        "from tf_agents.environments import tf_environment\n",
        "from tf_agents.environments import tf_py_environment\n",
        "from tf_agents.environments import utils\n",
        "from tf_agents.specs import array_spec\n",
        "from tf_agents.environments import wrappers\n",
        "from tf_agents.environments import suite_gym\n",
        "from tf_agents.trajectories import time_step as ts\n",
        "\n",
        "tf.compat.v1.enable_v2_behavior()"
      ],
      "execution_count": 2,
      "outputs": []
    },
    {
      "cell_type": "markdown",
      "metadata": {
        "id": "YSwkQcgfF1wx"
      },
      "source": [
        "# Define a Custom CartPole Class for TF-Agents\n",
        "\n",
        "- replace deterministic dynamics to stochastic dynamics by adding gaussian noise to force_mag used by action at `_step` function"
      ]
    },
    {
      "cell_type": "code",
      "metadata": {
        "id": "wcLXvjeoPM5Z"
      },
      "source": [
        "import math\n",
        "from gym.utils import seeding\n",
        "from gym import spaces, logger\n",
        "\n",
        "class CustomCartPoleEnv(py_environment.PyEnvironment):\n",
        "\n",
        "  def __init__(self, mu=0, sigma=0):\n",
        "    self.gravity = 9.8\n",
        "    self.masscart = 1.0\n",
        "    self.masspole = 0.1\n",
        "    self.total_mass = (self.masspole + self.masscart)\n",
        "    self.length = 0.5  # actually half the pole's length\n",
        "    self.polemass_length = (self.masspole * self.length)\n",
        "    self.force_mag = 10.0\n",
        "    self.tau = 0.02  # seconds between state updates\n",
        "    self.mu = mu\n",
        "    self.sigma = sigma\n",
        "    self.kinematics_integrator = 'euler'\n",
        "\n",
        "    # Angle at which to fail the episode\n",
        "    self.theta_threshold_radians = 12 * 2 * math.pi / 360\n",
        "    self.x_threshold = 2.4\n",
        "\n",
        "    # Angle limit set to 2 * theta_threshold_radians so failing observation\n",
        "    # is still within bounds.\n",
        "    high = np.array([self.x_threshold * 2,\n",
        "                      np.finfo(np.float32).max,\n",
        "                      self.theta_threshold_radians * 2,\n",
        "                      np.finfo(np.float32).max],\n",
        "                    dtype=np.float32)\n",
        "\n",
        "    self.seed()\n",
        "    self.viewer = None\n",
        "\n",
        "    self.steps_beyond_done = None\n",
        "\n",
        "    self._action_spec = array_spec.BoundedArraySpec(\n",
        "        shape=(), dtype=np.int32, minimum=0, maximum=1, name='action')\n",
        "    \n",
        "    self._observation_spec = array_spec.BoundedArraySpec(\n",
        "        shape=(4,), dtype=np.float32, minimum=-high, maximum= high, name='observation')\n",
        "    \n",
        "    self._state = None\n",
        "    self._episode_ended = False\n",
        "\n",
        "  def seed(self, seed=None):\n",
        "    self.np_random, seed = seeding.np_random(seed)\n",
        "    return [seed]\n",
        "\n",
        "  def action_spec(self):\n",
        "    return self._action_spec\n",
        "\n",
        "  def observation_spec(self):\n",
        "    return self._observation_spec\n",
        "\n",
        "  def _reset(self):\n",
        "    self._state = self.np_random.uniform(low=-0.05, high=0.05, size=(4,))\n",
        "\n",
        "    self.steps_beyond_done = None\n",
        "    self._episode_ended = False\n",
        "    return ts.restart(np.array(self._state, dtype=np.float32))\n",
        "\n",
        "  def _step(self, action):\n",
        "    if self._episode_ended:\n",
        "      # The last action ended the episode. Ignore the current action and start\n",
        "      # a new episode.\n",
        "      return self.reset()\n",
        "\n",
        "    err_msg = \"%r (%s) invalid\" % (action, type(action))\n",
        "    assert self._action_spec.check_array(action), err_msg\n",
        "\n",
        "    x, x_dot, theta, theta_dot = self._state\n",
        "\n",
        "    ### to replace a deterministic action with a stochastic action \n",
        "    #force = self.force_mag if action == 1 else -self.force_mag\n",
        "    stochastic_force = self.force_mag + np.random.normal(self.mu, self.sigma)\n",
        "    force = stochastic_force if action == 1 else -stochastic_force\n",
        "\n",
        "    costheta = math.cos(theta)\n",
        "    sintheta = math.sin(theta)\n",
        "\n",
        "    # For the interested reader:\n",
        "    # https://coneural.org/florian/papers/05_cart_pole.pdf\n",
        "    temp = (force + self.polemass_length * theta_dot ** 2 * sintheta) / self.total_mass\n",
        "    thetaacc = (self.gravity * sintheta - costheta * temp) / (self.length * (4.0 / 3.0 - self.masspole * costheta ** 2 / self.total_mass))\n",
        "    xacc = temp - self.polemass_length * thetaacc * costheta / self.total_mass\n",
        "\n",
        "    if self.kinematics_integrator == 'euler':\n",
        "        x = x + self.tau * x_dot\n",
        "        x_dot = x_dot + self.tau * xacc\n",
        "        theta = theta + self.tau * theta_dot\n",
        "        theta_dot = theta_dot + self.tau * thetaacc\n",
        "    else:  # semi-implicit euler\n",
        "        x_dot = x_dot + self.tau * xacc\n",
        "        x = x + self.tau * x_dot\n",
        "        theta_dot = theta_dot + self.tau * thetaacc\n",
        "        theta = theta + self.tau * theta_dot\n",
        "\n",
        "    self._state = (x, x_dot, theta, theta_dot)\n",
        "\n",
        "    done = bool(\n",
        "        x < -self.x_threshold\n",
        "        or x > self.x_threshold\n",
        "        or theta < -self.theta_threshold_radians\n",
        "        or theta > self.theta_threshold_radians\n",
        "    )\n",
        "\n",
        "    if not done:\n",
        "        reward = 1.0\n",
        "    elif self.steps_beyond_done is None:\n",
        "        # Pole just fell!\n",
        "        self.steps_beyond_done = 0\n",
        "        reward = 1.0\n",
        "    else:\n",
        "        if self.steps_beyond_done == 0:\n",
        "            logger.warn(\n",
        "                \"You are calling 'step()' even though this \"\n",
        "                \"environment has already returned done = True. You \"\n",
        "                \"should always call 'reset()' once you receive 'done = \"\n",
        "                \"True' -- any further steps are undefined behavior.\"\n",
        "            )\n",
        "        self.steps_beyond_done += 1\n",
        "        reward = 0.0\n",
        "\n",
        "    if done:\n",
        "      return ts.termination(np.array(self._state, dtype=np.float32), reward)\n",
        "    else:\n",
        "      return ts.transition(\n",
        "          np.array(self._state, dtype=np.float32), reward)\n",
        "      \n",
        "  def render(self, mode='human'):\n",
        "    screen_width = 600\n",
        "    screen_height = 400\n",
        "\n",
        "    world_width = self.x_threshold * 2\n",
        "    scale = screen_width/world_width\n",
        "    carty = 100  # TOP OF CART\n",
        "    polewidth = 10.0\n",
        "    polelen = scale * (2 * self.length)\n",
        "    cartwidth = 50.0\n",
        "    cartheight = 30.0\n",
        "\n",
        "    if self.viewer is None:\n",
        "      from gym.envs.classic_control import rendering\n",
        "      self.viewer = rendering.Viewer(screen_width, screen_height)\n",
        "      l, r, t, b = -cartwidth / 2, cartwidth / 2, cartheight / 2, -cartheight / 2\n",
        "      axleoffset = cartheight / 4.0\n",
        "      cart = rendering.FilledPolygon([(l, b), (l, t), (r, t), (r, b)])\n",
        "      self.carttrans = rendering.Transform()\n",
        "      cart.add_attr(self.carttrans)\n",
        "      self.viewer.add_geom(cart)\n",
        "      l, r, t, b = -polewidth / 2, polewidth / 2, polelen - polewidth / 2, -polewidth / 2\n",
        "      pole = rendering.FilledPolygon([(l, b), (l, t), (r, t), (r, b)])\n",
        "      pole.set_color(.8, .6, .4)\n",
        "      self.poletrans = rendering.Transform(translation=(0, axleoffset))\n",
        "      pole.add_attr(self.poletrans)\n",
        "      pole.add_attr(self.carttrans)\n",
        "      self.viewer.add_geom(pole)\n",
        "      self.axle = rendering.make_circle(polewidth/2)\n",
        "      self.axle.add_attr(self.poletrans)\n",
        "      self.axle.add_attr(self.carttrans)\n",
        "      self.axle.set_color(.5, .5, .8)\n",
        "      self.viewer.add_geom(self.axle)\n",
        "      self.track = rendering.Line((0, carty), (screen_width, carty))\n",
        "      self.track.set_color(0, 0, 0)\n",
        "      self.viewer.add_geom(self.track)\n",
        "\n",
        "      self._pole_geom = pole\n",
        "\n",
        "    if self._state is None:\n",
        "      return None\n",
        "\n",
        "    # Edit the pole polygon vertex\n",
        "    pole = self._pole_geom\n",
        "    l, r, t, b = -polewidth / 2, polewidth / 2, polelen - polewidth / 2, -polewidth / 2\n",
        "    pole.v = [(l, b), (l, t), (r, t), (r, b)]\n",
        "\n",
        "    x = self._state\n",
        "    cartx = x[0] * scale + screen_width / 2.0  # MIDDLE OF CART\n",
        "    self.carttrans.set_translation(cartx, carty)\n",
        "    self.poletrans.set_rotation(-x[2])\n",
        "\n",
        "    return self.viewer.render(return_rgb_array=mode == 'rgb_array')\n",
        "\n",
        "  def close(self):\n",
        "    if self.viewer:\n",
        "      self.viewer.close()\n",
        "      self.viewer = None"
      ],
      "execution_count": 3,
      "outputs": []
    },
    {
      "cell_type": "markdown",
      "metadata": {
        "id": "Qz-ubGGBVX5I"
      },
      "source": [
        "### Verify that the class is properly defined"
      ]
    },
    {
      "cell_type": "code",
      "metadata": {
        "id": "r6VqM2EqZxtR"
      },
      "source": [
        "# Validates the environment follows the defined specs.\n",
        "environment = CustomCartPoleEnv()\n",
        "environment.seed(1)\n",
        "utils.validate_py_environment(environment, episodes=5)"
      ],
      "execution_count": 4,
      "outputs": []
    },
    {
      "cell_type": "code",
      "metadata": {
        "colab": {
          "base_uri": "https://localhost:8080/"
        },
        "id": "tdNZtvPkT-D4",
        "outputId": "6306eb47-27df-4915-f62c-bc4013085a52"
      },
      "source": [
        "# Check a deterministic action\n",
        "environment = CustomCartPoleEnv(mu=0, sigma=0.0)\n",
        "for _ in range(3):\n",
        "  environment.seed(1)\n",
        "  step = environment.reset()\n",
        "  next_step = environment.step(np.array(0, dtype=np.int32))\n",
        "  print (step.observation, '- >', next_step.observation)"
      ],
      "execution_count": 5,
      "outputs": [
        {
          "output_type": "stream",
          "text": [
            "[ 0.03073904  0.00145001 -0.03088818 -0.03131252] - > [ 0.03076804 -0.19321568 -0.03151444  0.25146705]\n",
            "[ 0.03073904  0.00145001 -0.03088818 -0.03131252] - > [ 0.03076804 -0.19321568 -0.03151444  0.25146705]\n",
            "[ 0.03073904  0.00145001 -0.03088818 -0.03131252] - > [ 0.03076804 -0.19321568 -0.03151444  0.25146705]\n"
          ],
          "name": "stdout"
        }
      ]
    },
    {
      "cell_type": "code",
      "metadata": {
        "colab": {
          "base_uri": "https://localhost:8080/"
        },
        "id": "YYNHUByccYre",
        "outputId": "adc20d01-6cfb-42db-ca51-bff8410e42a7"
      },
      "source": [
        "# Check a stochastic action\n",
        "environment = CustomCartPoleEnv(mu=0, sigma=0.5)\n",
        "for _ in range(3):\n",
        "  environment.seed(1)\n",
        "  step = environment.reset()\n",
        "  next_step = environment.step(np.array(0, dtype=np.int32))\n",
        "  print (step.observation, '- >', next_step.observation)"
      ],
      "execution_count": 6,
      "outputs": [
        {
          "output_type": "stream",
          "text": [
            "[ 0.03073904  0.00145001 -0.03088818 -0.03131252] - > [ 0.03076804 -0.18968922 -0.03151444  0.24617988]\n",
            "[ 0.03073904  0.00145001 -0.03088818 -0.03131252] - > [ 0.03076804 -0.19936486 -0.03151444  0.2606864 ]\n",
            "[ 0.03073904  0.00145001 -0.03088818 -0.03131252] - > [ 0.03076804 -0.19247684 -0.03151444  0.2503593 ]\n"
          ],
          "name": "stdout"
        }
      ]
    },
    {
      "cell_type": "code",
      "metadata": {
        "colab": {
          "base_uri": "https://localhost:8080/"
        },
        "id": "62-Xqglljy6t",
        "outputId": "46246ed9-ef04-4318-8157-540647e0cd06"
      },
      "source": [
        "# check a deterministic episode\n",
        "environment = CustomCartPoleEnv(mu=0, sigma=0.0)\n",
        "\n",
        "for _ in range(3) :\n",
        "  environment.seed(1)\n",
        "\n",
        "  time_step = environment.reset()\n",
        "  #print(time_step)\n",
        "  i = 0\n",
        "  cumulative_reward = 0\n",
        "  while not time_step.is_last():\n",
        "    action = np.array(i % 2, dtype=np.int32)\n",
        "    i+=1\n",
        "    time_step = environment.step(action)\n",
        "    #print(time_step)\n",
        "    cumulative_reward += time_step.reward\n",
        "\n",
        "  print (cumulative_reward)"
      ],
      "execution_count": 7,
      "outputs": [
        {
          "output_type": "stream",
          "text": [
            "64.0\n",
            "64.0\n",
            "64.0\n"
          ],
          "name": "stdout"
        }
      ]
    },
    {
      "cell_type": "code",
      "metadata": {
        "colab": {
          "base_uri": "https://localhost:8080/"
        },
        "id": "hA16sBp4jy4O",
        "outputId": "1250dc5b-f450-4445-a50d-0b36009a0758"
      },
      "source": [
        "# check a stochastic episode\n",
        "environment = CustomCartPoleEnv(mu=0, sigma=1.0)\n",
        "\n",
        "for _ in range(3) :\n",
        "  environment.seed(1)\n",
        "\n",
        "  time_step = environment.reset()\n",
        "  #print(time_step)\n",
        "  i = 0\n",
        "  cumulative_reward = 0\n",
        "  while not time_step.is_last():\n",
        "    action = np.array(i % 2, dtype=np.int32)\n",
        "    i+=1\n",
        "    time_step = environment.step(action)\n",
        "    #print(time_step)\n",
        "    cumulative_reward += time_step.reward\n",
        "\n",
        "  print (cumulative_reward)"
      ],
      "execution_count": 8,
      "outputs": [
        {
          "output_type": "stream",
          "text": [
            "52.0\n",
            "36.0\n",
            "29.0\n"
          ],
          "name": "stdout"
        }
      ]
    },
    {
      "cell_type": "markdown",
      "metadata": {
        "id": "2iiae9BnJgo3"
      },
      "source": [
        "# DQN"
      ]
    },
    {
      "cell_type": "code",
      "metadata": {
        "id": "-1Bv5SXkl8WO"
      },
      "source": [
        "from __future__ import absolute_import, division, print_function\n",
        "\n",
        "import base64\n",
        "import imageio\n",
        "import IPython\n",
        "import matplotlib\n",
        "import matplotlib.pyplot as plt\n",
        "import numpy as np\n",
        "import PIL.Image\n",
        "import pyvirtualdisplay\n",
        "\n",
        "import tensorflow as tf\n",
        "\n",
        "\n",
        "from tf_agents.drivers import dynamic_step_driver\n",
        "\n",
        "from tf_agents.environments import tf_py_environment\n",
        "from tf_agents.eval import metric_utils\n",
        "from tf_agents.metrics import tf_metrics\n",
        "\n",
        "from tf_agents.policies import random_tf_policy\n",
        "\n",
        "from tf_agents.trajectories import trajectory\n",
        "from tf_agents.utils import common"
      ],
      "execution_count": 9,
      "outputs": []
    },
    {
      "cell_type": "code",
      "metadata": {
        "id": "-j4P1NZil8mf"
      },
      "source": [
        "tf.compat.v1.enable_v2_behavior()\n",
        "\n",
        "# Set up a virtual display for rendering OpenAI gym environments.\n",
        "display = pyvirtualdisplay.Display(visible=0, size=(1400, 900)).start()"
      ],
      "execution_count": 10,
      "outputs": []
    },
    {
      "cell_type": "markdown",
      "metadata": {
        "id": "dVskfO1cJpZc"
      },
      "source": [
        "### Set Hyperparameters"
      ]
    },
    {
      "cell_type": "code",
      "metadata": {
        "id": "p1PcYxWml8rg"
      },
      "source": [
        "# Hyperparameters for training\n",
        "num_iterations = 100000 # @param {type:\"integer\"}\n",
        "batch_size = 64  # @param {type:\"integer\"}\n",
        "learning_rate = 1e-3  # @param {type:\"number\"}\n",
        "\n",
        "# Hyperparameters for data collection\n",
        "initial_collect_steps = 100  # @param {type:\"integer\"} \n",
        "collect_steps_per_iteration = 1  # @param {type:\"integer\"}\n",
        "replay_buffer_max_length = 100000  # @param {type:\"integer\"}\n",
        "\n",
        "# Hyperparameters for monitoring\n",
        "log_interval = 200  # @param {type:\"integer\"}\n",
        "num_eval_episodes = 10  # @param {type:\"integer\"}\n",
        "eval_interval = 2000  # @param {type:\"integer\"}"
      ],
      "execution_count": 11,
      "outputs": []
    },
    {
      "cell_type": "markdown",
      "metadata": {
        "id": "vQAdE0E7JuoA"
      },
      "source": [
        "### Define Environments"
      ]
    },
    {
      "cell_type": "code",
      "metadata": {
        "id": "59LKzT5rmHs7"
      },
      "source": [
        "# Define train and eval envrionments for Source task \n",
        "train_py_env = CustomCartPoleEnv(mu=0.0, sigma = 0.5)\n",
        "eval_py_env = CustomCartPoleEnv(mu=0.0, sigma = 0.5)"
      ],
      "execution_count": 12,
      "outputs": []
    },
    {
      "cell_type": "code",
      "metadata": {
        "id": "JddYEVM68wUk"
      },
      "source": [
        "# Wrap an environment to apply maximum_episode_length\n",
        "train_py_env = wrappers.TimeLimit(train_py_env, 500)\n",
        "eval_py_env = wrappers.TimeLimit(eval_py_env, 500)"
      ],
      "execution_count": 13,
      "outputs": []
    },
    {
      "cell_type": "code",
      "metadata": {
        "id": "fM3nKHBpmHqK"
      },
      "source": [
        "# Exposes a Python environment as an in-graph TF environment\n",
        "train_env = tf_py_environment.TFPyEnvironment(train_py_env)\n",
        "eval_env = tf_py_environment.TFPyEnvironment(eval_py_env)"
      ],
      "execution_count": 14,
      "outputs": []
    },
    {
      "cell_type": "markdown",
      "metadata": {
        "id": "fb-L35qMKKxa"
      },
      "source": [
        "Define a DQN Agent"
      ]
    },
    {
      "cell_type": "code",
      "metadata": {
        "id": "NMEGfxg6l8R5"
      },
      "source": [
        "# define Q-Network\n",
        "from tf_agents.networks import q_network\n",
        "\n",
        "fc_layer_params = (100,)\n",
        "\n",
        "q_net = q_network.QNetwork(\n",
        "    train_env.observation_spec(),\n",
        "    train_env.action_spec(),\n",
        "    fc_layer_params=fc_layer_params)"
      ],
      "execution_count": 15,
      "outputs": []
    },
    {
      "cell_type": "code",
      "metadata": {
        "id": "iIKla9ell8PC"
      },
      "source": [
        "# Define a DQN Agent\n",
        "from tf_agents.agents.dqn import dqn_agent\n",
        "\n",
        "optimizer = tf.compat.v1.train.AdamOptimizer(learning_rate=learning_rate)\n",
        "\n",
        "train_step_counter = tf.Variable(0)\n",
        "\n",
        "agent = dqn_agent.DqnAgent(\n",
        "    train_env.time_step_spec(),\n",
        "    train_env.action_spec(),\n",
        "    q_network=q_net,\n",
        "    optimizer=optimizer,\n",
        "    td_errors_loss_fn=common.element_wise_squared_loss,\n",
        "    train_step_counter=train_step_counter)\n",
        "\n",
        "agent.initialize()"
      ],
      "execution_count": 16,
      "outputs": []
    },
    {
      "cell_type": "code",
      "metadata": {
        "id": "DkKiZSKMl8Mn"
      },
      "source": [
        "# Define eval_policy for evaluation and collect_policy for data collection\n",
        "eval_policy = agent.policy\n",
        "collect_policy = agent.collect_policy"
      ],
      "execution_count": 17,
      "outputs": []
    },
    {
      "cell_type": "markdown",
      "metadata": {
        "id": "-cTTri1UK30F"
      },
      "source": [
        "### Define Metrics and Evaluation "
      ]
    },
    {
      "cell_type": "code",
      "metadata": {
        "id": "qYEuOaSQl8II"
      },
      "source": [
        "#@test {\"skip\": true}\n",
        "def compute_avg_return(environment, policy, num_episodes=10):\n",
        "\n",
        "  total_return = 0.0\n",
        "  for _ in range(num_episodes):\n",
        "\n",
        "    time_step = environment.reset()\n",
        "    episode_return = 0.0\n",
        "\n",
        "    while not time_step.is_last():  \n",
        "      action_step = policy.action(time_step) \n",
        "      time_step = environment.step(action_step.action)\n",
        "      episode_return += time_step.reward \n",
        "    total_return += episode_return \n",
        "\n",
        "  avg_return = total_return / num_episodes \n",
        "  return avg_return.numpy()[0]\n",
        "\n",
        "\n",
        "# See also the metrics module for standard implementations of different metrics.\n",
        "# https://github.com/tensorflow/agents/tree/master/tf_agents/metrics"
      ],
      "execution_count": 19,
      "outputs": []
    },
    {
      "cell_type": "code",
      "metadata": {
        "colab": {
          "base_uri": "https://localhost:8080/"
        },
        "id": "frl6Qj43YE8M",
        "outputId": "6bcd7511-79ed-426d-9705-9c94b0f71abc"
      },
      "source": [
        "# Evaluate Random Policy\n",
        "random_policy = random_tf_policy.RandomTFPolicy(train_env.time_step_spec(),\n",
        "                                                train_env.action_spec())\n",
        "compute_avg_return(eval_env, random_policy, num_eval_episodes)"
      ],
      "execution_count": 20,
      "outputs": [
        {
          "output_type": "execute_result",
          "data": {
            "text/plain": [
              "22.9"
            ]
          },
          "metadata": {
            "tags": []
          },
          "execution_count": 20
        }
      ]
    },
    {
      "cell_type": "markdown",
      "metadata": {
        "id": "m9GRlNoOLC5W"
      },
      "source": [
        "### Define replay buffer"
      ]
    },
    {
      "cell_type": "code",
      "metadata": {
        "id": "qArIESTBT-GF"
      },
      "source": [
        "from tf_agents.replay_buffers import tf_uniform_replay_buffer\n",
        "\n",
        "replay_buffer = tf_uniform_replay_buffer.TFUniformReplayBuffer(\n",
        "    data_spec=agent.collect_data_spec, \n",
        "    batch_size=train_env.batch_size, \n",
        "    max_length=replay_buffer_max_length)"
      ],
      "execution_count": 21,
      "outputs": []
    },
    {
      "cell_type": "markdown",
      "metadata": {
        "id": "YARWbeN_LJYJ"
      },
      "source": [
        "### Define data collection"
      ]
    },
    {
      "cell_type": "code",
      "metadata": {
        "id": "89kqjBE_T-AS"
      },
      "source": [
        "#@test {\"skip\": true}\n",
        "def collect_step(environment, policy, buffer):\n",
        "  time_step = environment.current_time_step() \n",
        "  action_step = policy.action(time_step)\n",
        "  next_time_step = environment.step(action_step.action) \n",
        "  traj = trajectory.from_transition(time_step, action_step, next_time_step) \n",
        "\n",
        "  # Add trajectory to the replay buffer\n",
        "  buffer.add_batch(traj)\n",
        "\n",
        "def collect_data(env, policy, buffer, steps):\n",
        "  for _ in range(steps):\n",
        "    collect_step(env, policy, buffer)\n",
        "\n",
        "collect_data(train_env, random_policy, replay_buffer, initial_collect_steps)\n",
        "\n",
        "# This loop is so common in RL, that we provide standard implementations. \n",
        "# For more details see the drivers module.\n",
        "# https://www.tensorflow.org/agents/api_docs/python/tf_agents/drivers"
      ],
      "execution_count": 22,
      "outputs": []
    },
    {
      "cell_type": "markdown",
      "metadata": {
        "id": "z8Pvj8mbLfaX"
      },
      "source": [
        "### Define dataset"
      ]
    },
    {
      "cell_type": "code",
      "metadata": {
        "colab": {
          "base_uri": "https://localhost:8080/"
        },
        "id": "gA9navyEUhoG",
        "outputId": "0b43c80d-3f18-4653-b199-9b57340f86a3"
      },
      "source": [
        "# Dataset generates trajectories with shape [Bx2x...]\n",
        "dataset = replay_buffer.as_dataset(\n",
        "    num_parallel_calls=3, \n",
        "    sample_batch_size=1, \n",
        "    num_steps=2) \n",
        "\n",
        "dataset = dataset.prefetch(3) \n",
        "\n",
        "iterator = iter(dataset)\n",
        "print(iterator.next())"
      ],
      "execution_count": 23,
      "outputs": [
        {
          "output_type": "stream",
          "text": [
            "WARNING:tensorflow:From /usr/local/lib/python3.6/dist-packages/tensorflow/python/autograph/operators/control_flow.py:1004: ReplayBuffer.get_next (from tf_agents.replay_buffers.replay_buffer) is deprecated and will be removed in a future version.\n",
            "Instructions for updating:\n",
            "Use `as_dataset(..., single_deterministic_pass=False) instead.\n",
            "(Trajectory(step_type=<tf.Tensor: shape=(1, 2), dtype=int32, numpy=array([[1, 1]], dtype=int32)>, observation=<tf.Tensor: shape=(1, 2, 4), dtype=float32, numpy=\n",
            "array([[[ 0.05889425,  0.41668603, -0.00465367, -0.5787176 ],\n",
            "        [ 0.06722797,  0.5975309 , -0.01622803, -0.8513501 ]]],\n",
            "      dtype=float32)>, action=<tf.Tensor: shape=(1, 2), dtype=int32, numpy=array([[1, 1]], dtype=int32)>, policy_info=(), next_step_type=<tf.Tensor: shape=(1, 2), dtype=int32, numpy=array([[1, 1]], dtype=int32)>, reward=<tf.Tensor: shape=(1, 2), dtype=float32, numpy=array([[1., 1.]], dtype=float32)>, discount=<tf.Tensor: shape=(1, 2), dtype=float32, numpy=array([[1., 1.]], dtype=float32)>), BufferInfo(ids=<tf.Tensor: shape=(1, 2), dtype=int64, numpy=array([[73, 74]])>, probabilities=<tf.Tensor: shape=(1,), dtype=float32, numpy=array([0.01010101], dtype=float32)>))\n"
          ],
          "name": "stdout"
        }
      ]
    },
    {
      "cell_type": "markdown",
      "metadata": {
        "id": "lZt3js0ALmUg"
      },
      "source": [
        "# Train"
      ]
    },
    {
      "cell_type": "code",
      "metadata": {
        "id": "FILylafAkMEx",
        "colab": {
          "base_uri": "https://localhost:8080/"
        },
        "outputId": "7f900c1d-3819-48b9-a072-b65c94cc9586"
      },
      "source": [
        "#@test {\"skip\": true}\n",
        "try:\n",
        "  %%time\n",
        "except:\n",
        "  pass\n",
        "\n",
        "dataset = replay_buffer.as_dataset(\n",
        "  num_parallel_calls=3, \n",
        "  sample_batch_size=batch_size, \n",
        "  num_steps=2).prefetch(3)\n",
        "iterator = iter(dataset)\n",
        "\n",
        "\n",
        "# (Optional) Optimize by wrapping some of the code in a graph using TF function.\n",
        "agent.train = common.function(agent.train)\n",
        "\n",
        "# Reset the train step\n",
        "agent.train_step_counter.assign(0)\n",
        "\n",
        "# Evaluate the agent's policy once before training.\n",
        "avg_return = compute_avg_return(eval_env, agent.policy, num_eval_episodes)\n",
        "returns = [avg_return]\n",
        "\n",
        "for _ in range(num_iterations):\n",
        "\n",
        "  # Collect a few steps using collect_policy and save to the replay buffer.\n",
        "  collect_data(train_env, agent.collect_policy, replay_buffer, collect_steps_per_iteration)\n",
        "\n",
        "  # Sample a batch of data from the buffer and update the agent's network.\n",
        "  experience, unused_info = next(iterator)\n",
        "  train_loss = agent.train(experience).loss\n",
        "\n",
        "  step = agent.train_step_counter.numpy()\n",
        "\n",
        "  if step % log_interval == 0:\n",
        "    print('step = {0}: loss = {1}'.format(step, train_loss))\n",
        "\n",
        "  if step % eval_interval == 0:\n",
        "    avg_return = compute_avg_return(eval_env, agent.policy, num_eval_episodes)\n",
        "    print('step = {0}: Average Return = {1}'.format(step, avg_return))\n",
        "    returns.append(avg_return)"
      ],
      "execution_count": 24,
      "outputs": [
        {
          "output_type": "stream",
          "text": [
            "CPU times: user 2 µs, sys: 0 ns, total: 2 µs\n",
            "Wall time: 5.01 µs\n",
            "WARNING:tensorflow:From /usr/local/lib/python3.6/dist-packages/tensorflow/python/util/dispatch.py:201: calling foldr_v2 (from tensorflow.python.ops.functional_ops) with back_prop=False is deprecated and will be removed in a future version.\n",
            "Instructions for updating:\n",
            "back_prop=False is deprecated. Consider using tf.stop_gradient instead.\n",
            "Instead of:\n",
            "results = tf.foldr(fn, elems, back_prop=False)\n",
            "Use:\n",
            "results = tf.nest.map_structure(tf.stop_gradient, tf.foldr(fn, elems))\n",
            "step = 200: loss = 5.929415702819824\n",
            "step = 400: loss = 14.037254333496094\n",
            "step = 600: loss = 15.262240409851074\n",
            "step = 800: loss = 13.782356262207031\n",
            "step = 1000: loss = 6.891366004943848\n",
            "step = 1200: loss = 12.715017318725586\n",
            "step = 1400: loss = 80.53009033203125\n",
            "step = 1600: loss = 60.45826721191406\n",
            "step = 1800: loss = 43.709163665771484\n",
            "step = 2000: loss = 170.6796875\n",
            "step = 2000: Average Return = 40.400001525878906\n",
            "step = 2200: loss = 12.189397811889648\n",
            "step = 2400: loss = 227.48829650878906\n",
            "step = 2600: loss = 117.30162811279297\n",
            "step = 2800: loss = 170.6879425048828\n",
            "step = 3000: loss = 398.11297607421875\n",
            "step = 3200: loss = 92.70661163330078\n",
            "step = 3400: loss = 18.10251235961914\n",
            "step = 3600: loss = 14.774020195007324\n",
            "step = 3800: loss = 469.85577392578125\n",
            "step = 4000: loss = 13.547586441040039\n",
            "step = 4000: Average Return = 80.0\n",
            "step = 4200: loss = 289.42144775390625\n",
            "step = 4400: loss = 101.5201416015625\n",
            "step = 4600: loss = 81.66317749023438\n",
            "step = 4800: loss = 275.06671142578125\n",
            "step = 5000: loss = 21.478668212890625\n",
            "step = 5200: loss = 16.710704803466797\n",
            "step = 5400: loss = 14.94537353515625\n",
            "step = 5600: loss = 1136.831298828125\n",
            "step = 5800: loss = 178.62802124023438\n",
            "step = 6000: loss = 330.69287109375\n",
            "step = 6000: Average Return = 242.8000030517578\n",
            "step = 6200: loss = 10.732253074645996\n",
            "step = 6400: loss = 381.0754089355469\n",
            "step = 6600: loss = 522.8934936523438\n",
            "step = 6800: loss = 386.5382080078125\n",
            "step = 7000: loss = 22.996444702148438\n",
            "step = 7200: loss = 133.00216674804688\n",
            "step = 7400: loss = 40.62494659423828\n",
            "step = 7600: loss = 163.94459533691406\n",
            "step = 7800: loss = 252.57142639160156\n",
            "step = 8000: loss = 14.206079483032227\n",
            "step = 8000: Average Return = 276.20001220703125\n",
            "step = 8200: loss = 20.647478103637695\n",
            "step = 8400: loss = 23.922821044921875\n",
            "step = 8600: loss = 160.989501953125\n",
            "step = 8800: loss = 225.1224365234375\n",
            "step = 9000: loss = 586.6395874023438\n",
            "step = 9200: loss = 159.011474609375\n",
            "step = 9400: loss = 823.408935546875\n",
            "step = 9600: loss = 32.03886413574219\n",
            "step = 9800: loss = 935.547607421875\n",
            "step = 10000: loss = 1025.1234130859375\n",
            "step = 10000: Average Return = 349.29998779296875\n",
            "step = 10200: loss = 26.892169952392578\n",
            "step = 10400: loss = 1904.3564453125\n",
            "step = 10600: loss = 1119.952880859375\n",
            "step = 10800: loss = 30.906147003173828\n",
            "step = 11000: loss = 399.10858154296875\n",
            "step = 11200: loss = 1003.3866577148438\n",
            "step = 11400: loss = 142.23585510253906\n",
            "step = 11600: loss = 2190.7060546875\n",
            "step = 11800: loss = 990.666748046875\n",
            "step = 12000: loss = 52.87885284423828\n",
            "step = 12000: Average Return = 423.6000061035156\n",
            "step = 12200: loss = 62.092308044433594\n",
            "step = 12400: loss = 612.0711669921875\n",
            "step = 12600: loss = 33.69552993774414\n",
            "step = 12800: loss = 408.11151123046875\n",
            "step = 13000: loss = 42.13694763183594\n",
            "step = 13200: loss = 756.881103515625\n",
            "step = 13400: loss = 1053.47509765625\n",
            "step = 13600: loss = 50.255611419677734\n",
            "step = 13800: loss = 572.4931030273438\n",
            "step = 14000: loss = 1706.775146484375\n",
            "step = 14000: Average Return = 448.8999938964844\n",
            "step = 14200: loss = 2084.260986328125\n",
            "step = 14400: loss = 63.466651916503906\n",
            "step = 14600: loss = 82.45822143554688\n",
            "step = 14800: loss = 1754.28173828125\n",
            "step = 15000: loss = 2172.513427734375\n",
            "step = 15200: loss = 1665.8330078125\n",
            "step = 15400: loss = 66.66201782226562\n",
            "step = 15600: loss = 1295.643310546875\n",
            "step = 15800: loss = 58.90623092651367\n",
            "step = 16000: loss = 70.89409637451172\n",
            "step = 16000: Average Return = 500.0\n",
            "step = 16200: loss = 2281.150634765625\n",
            "step = 16400: loss = 49.24077606201172\n",
            "step = 16600: loss = 64.88941955566406\n",
            "step = 16800: loss = 162.85548400878906\n",
            "step = 17000: loss = 2289.302001953125\n",
            "step = 17200: loss = 95.33361053466797\n",
            "step = 17400: loss = 6458.18701171875\n",
            "step = 17600: loss = 56.07927322387695\n",
            "step = 17800: loss = 2976.71435546875\n",
            "step = 18000: loss = 102.25626373291016\n",
            "step = 18000: Average Return = 499.3999938964844\n",
            "step = 18200: loss = 46.79161071777344\n",
            "step = 18400: loss = 110.77639770507812\n",
            "step = 18600: loss = 5510.37744140625\n",
            "step = 18800: loss = 44.01255416870117\n",
            "step = 19000: loss = 112.42745971679688\n",
            "step = 19200: loss = 6131.369140625\n",
            "step = 19400: loss = 3292.920654296875\n",
            "step = 19600: loss = 143.9054412841797\n",
            "step = 19800: loss = 97.52413940429688\n",
            "step = 20000: loss = 49.78202819824219\n",
            "step = 20000: Average Return = 457.5\n",
            "step = 20200: loss = 53.35179138183594\n",
            "step = 20400: loss = 106.41485595703125\n",
            "step = 20600: loss = 1482.80322265625\n",
            "step = 20800: loss = 4150.56689453125\n",
            "step = 21000: loss = 68.84640502929688\n",
            "step = 21200: loss = 67.90779876708984\n",
            "step = 21400: loss = 57.231163024902344\n",
            "step = 21600: loss = 89.21040344238281\n",
            "step = 21800: loss = 82.4183578491211\n",
            "step = 22000: loss = 4583.35205078125\n",
            "step = 22000: Average Return = 474.5\n",
            "step = 22200: loss = 115.8247299194336\n",
            "step = 22400: loss = 229.37338256835938\n",
            "step = 22600: loss = 2516.206787109375\n",
            "step = 22800: loss = 125.62358093261719\n",
            "step = 23000: loss = 137.62783813476562\n",
            "step = 23200: loss = 85.32355499267578\n",
            "step = 23400: loss = 2965.064453125\n",
            "step = 23600: loss = 79.28136444091797\n",
            "step = 23800: loss = 146.89874267578125\n",
            "step = 24000: loss = 196.70236206054688\n",
            "step = 24000: Average Return = 500.0\n",
            "step = 24200: loss = 67.24262237548828\n",
            "step = 24400: loss = 211.86337280273438\n",
            "step = 24600: loss = 163.1914825439453\n",
            "step = 24800: loss = 9837.736328125\n",
            "step = 25000: loss = 58.50837707519531\n",
            "step = 25200: loss = 12085.8681640625\n",
            "step = 25400: loss = 13865.2861328125\n",
            "step = 25600: loss = 137.25477600097656\n",
            "step = 25800: loss = 142.07757568359375\n",
            "step = 26000: loss = 7584.4091796875\n",
            "step = 26000: Average Return = 496.0\n",
            "step = 26200: loss = 146.07009887695312\n",
            "step = 26400: loss = 161.67771911621094\n",
            "step = 26600: loss = 238.22291564941406\n",
            "step = 26800: loss = 180.5481719970703\n",
            "step = 27000: loss = 68.37731170654297\n",
            "step = 27200: loss = 17154.359375\n",
            "step = 27400: loss = 6114.50390625\n",
            "step = 27600: loss = 314.65045166015625\n",
            "step = 27800: loss = 9149.654296875\n",
            "step = 28000: loss = 1527.1856689453125\n",
            "step = 28000: Average Return = 497.70001220703125\n",
            "step = 28200: loss = 148.07513427734375\n",
            "step = 28400: loss = 133.13902282714844\n",
            "step = 28600: loss = 96.67573547363281\n",
            "step = 28800: loss = 18712.29296875\n",
            "step = 29000: loss = 17775.251953125\n",
            "step = 29200: loss = 11612.91796875\n",
            "step = 29400: loss = 215.86135864257812\n",
            "step = 29600: loss = 188.17787170410156\n",
            "step = 29800: loss = 288.33966064453125\n",
            "step = 30000: loss = 108.4307861328125\n",
            "step = 30000: Average Return = 500.0\n",
            "step = 30200: loss = 202.76588439941406\n",
            "step = 30400: loss = 148.06166076660156\n",
            "step = 30600: loss = 12517.677734375\n",
            "step = 30800: loss = 182.46685791015625\n",
            "step = 31000: loss = 4546.1572265625\n",
            "step = 31200: loss = 172.90724182128906\n",
            "step = 31400: loss = 115.20938873291016\n",
            "step = 31600: loss = 426.2337341308594\n",
            "step = 31800: loss = 161.95382690429688\n",
            "step = 32000: loss = 23723.015625\n",
            "step = 32000: Average Return = 500.0\n",
            "step = 32200: loss = 509.90533447265625\n",
            "step = 32400: loss = 290.86669921875\n",
            "step = 32600: loss = 299.6253967285156\n",
            "step = 32800: loss = 204.00112915039062\n",
            "step = 33000: loss = 3505.970458984375\n",
            "step = 33200: loss = 104.66373443603516\n",
            "step = 33400: loss = 191.885498046875\n",
            "step = 33600: loss = 218.0372314453125\n",
            "step = 33800: loss = 93.42678833007812\n",
            "step = 34000: loss = 211.2407989501953\n",
            "step = 34000: Average Return = 500.0\n",
            "step = 34200: loss = 270.998779296875\n",
            "step = 34400: loss = 7659.224609375\n",
            "step = 34600: loss = 111.3573226928711\n",
            "step = 34800: loss = 162.10491943359375\n",
            "step = 35000: loss = 258.3997802734375\n",
            "step = 35200: loss = 305.30535888671875\n",
            "step = 35400: loss = 130.64170837402344\n",
            "step = 35600: loss = 353.2584228515625\n",
            "step = 35800: loss = 384.5500793457031\n",
            "step = 36000: loss = 614.0971069335938\n",
            "step = 36000: Average Return = 500.0\n",
            "step = 36200: loss = 14133.99609375\n",
            "step = 36400: loss = 212.60446166992188\n",
            "step = 36600: loss = 456.1876220703125\n",
            "step = 36800: loss = 513.2731323242188\n",
            "step = 37000: loss = 777.78369140625\n",
            "step = 37200: loss = 308.948974609375\n",
            "step = 37400: loss = 259.0053405761719\n",
            "step = 37600: loss = 300.88250732421875\n",
            "step = 37800: loss = 500.1944580078125\n",
            "step = 38000: loss = 241.0374755859375\n",
            "step = 38000: Average Return = 500.0\n",
            "step = 38200: loss = 574.78076171875\n",
            "step = 38400: loss = 427.0758972167969\n",
            "step = 38600: loss = 172.7411651611328\n",
            "step = 38800: loss = 201.5260009765625\n",
            "step = 39000: loss = 26308.0546875\n",
            "step = 39200: loss = 66.50269317626953\n",
            "step = 39400: loss = 49479.90625\n",
            "step = 39600: loss = 93727.7109375\n",
            "step = 39800: loss = 413.4569091796875\n",
            "step = 40000: loss = 44321.15625\n",
            "step = 40000: Average Return = 500.0\n",
            "step = 40200: loss = 559.9686279296875\n",
            "step = 40400: loss = 766.6416625976562\n",
            "step = 40600: loss = 215.791015625\n",
            "step = 40800: loss = 196.84327697753906\n",
            "step = 41000: loss = 171.360595703125\n",
            "step = 41200: loss = 454.7411804199219\n",
            "step = 41400: loss = 275.69854736328125\n",
            "step = 41600: loss = 719.4490966796875\n",
            "step = 41800: loss = 42288.53515625\n",
            "step = 42000: loss = 652.63671875\n",
            "step = 42000: Average Return = 500.0\n",
            "step = 42200: loss = 519.70703125\n",
            "step = 42400: loss = 486.7880859375\n",
            "step = 42600: loss = 205.89100646972656\n",
            "step = 42800: loss = 332.54559326171875\n",
            "step = 43000: loss = 114631.578125\n",
            "step = 43200: loss = 359.5827331542969\n",
            "step = 43400: loss = 510.61468505859375\n",
            "step = 43600: loss = 256.970703125\n",
            "step = 43800: loss = 250.0169677734375\n",
            "step = 44000: loss = 723.210693359375\n",
            "step = 44000: Average Return = 500.0\n",
            "step = 44200: loss = 560.5302734375\n",
            "step = 44400: loss = 146.0060577392578\n",
            "step = 44600: loss = 279.56689453125\n",
            "step = 44800: loss = 103426.0\n",
            "step = 45000: loss = 83441.6484375\n",
            "step = 45200: loss = 419.29541015625\n",
            "step = 45400: loss = 340.42926025390625\n",
            "step = 45600: loss = 400.7997131347656\n",
            "step = 45800: loss = 709.2086181640625\n",
            "step = 46000: loss = 423.656982421875\n",
            "step = 46000: Average Return = 500.0\n",
            "step = 46200: loss = 414.0303955078125\n",
            "step = 46400: loss = 1182.0191650390625\n",
            "step = 46600: loss = 83.10848236083984\n",
            "step = 46800: loss = 609.598876953125\n",
            "step = 47000: loss = 258.74493408203125\n",
            "step = 47200: loss = 284.7813720703125\n",
            "step = 47400: loss = 703.8538818359375\n",
            "step = 47600: loss = 246.9620361328125\n",
            "step = 47800: loss = 270.39544677734375\n",
            "step = 48000: loss = 714.9481201171875\n",
            "step = 48000: Average Return = 500.0\n",
            "step = 48200: loss = 690.7371826171875\n",
            "step = 48400: loss = 275.9381103515625\n",
            "step = 48600: loss = 401.22125244140625\n",
            "step = 48800: loss = 222.62759399414062\n",
            "step = 49000: loss = 642.5291748046875\n",
            "step = 49200: loss = 2328.85302734375\n",
            "step = 49400: loss = 509.6747741699219\n",
            "step = 49600: loss = 133.15750122070312\n",
            "step = 49800: loss = 155.73822021484375\n",
            "step = 50000: loss = 478.030517578125\n",
            "step = 50000: Average Return = 500.0\n",
            "step = 50200: loss = 87378.921875\n",
            "step = 50400: loss = 1378.603759765625\n",
            "step = 50600: loss = 102616.4453125\n",
            "step = 50800: loss = 907.5512084960938\n",
            "step = 51000: loss = 945.9012451171875\n",
            "step = 51200: loss = 432.7258605957031\n",
            "step = 51400: loss = 772.0859985351562\n",
            "step = 51600: loss = 372.70550537109375\n",
            "step = 51800: loss = 1745.755126953125\n",
            "step = 52000: loss = 243.56246948242188\n",
            "step = 52000: Average Return = 500.0\n",
            "step = 52200: loss = 392.73126220703125\n",
            "step = 52400: loss = 827.968017578125\n",
            "step = 52600: loss = 609.6281127929688\n",
            "step = 52800: loss = 1828.149169921875\n",
            "step = 53000: loss = 1120.136474609375\n",
            "step = 53200: loss = 512.1822509765625\n",
            "step = 53400: loss = 810.6056518554688\n",
            "step = 53600: loss = 441.0585021972656\n",
            "step = 53800: loss = 123171.59375\n",
            "step = 54000: loss = 371.38330078125\n",
            "step = 54000: Average Return = 500.0\n",
            "step = 54200: loss = 474.6634521484375\n",
            "step = 54400: loss = 406.7467041015625\n",
            "step = 54600: loss = 325.9139404296875\n",
            "step = 54800: loss = 561.6456909179688\n",
            "step = 55000: loss = 332.2835388183594\n",
            "step = 55200: loss = 719.7778930664062\n",
            "step = 55400: loss = 114068.7890625\n",
            "step = 55600: loss = 626.9559326171875\n",
            "step = 55800: loss = 306.1746826171875\n",
            "step = 56000: loss = 925.9132080078125\n",
            "step = 56000: Average Return = 500.0\n",
            "step = 56200: loss = 723.434326171875\n",
            "step = 56400: loss = 186.02688598632812\n",
            "step = 56600: loss = 645.3104248046875\n",
            "step = 56800: loss = 1443.962158203125\n",
            "step = 57000: loss = 294429.375\n",
            "step = 57200: loss = 472.80059814453125\n",
            "step = 57400: loss = 937.888427734375\n",
            "step = 57600: loss = 939.5001220703125\n",
            "step = 57800: loss = 1065.536865234375\n",
            "step = 58000: loss = 31162.537109375\n",
            "step = 58000: Average Return = 494.3999938964844\n",
            "step = 58200: loss = 652.3270874023438\n",
            "step = 58400: loss = 100240.1171875\n",
            "step = 58600: loss = 482.6719055175781\n",
            "step = 58800: loss = 35422.0546875\n",
            "step = 59000: loss = 1165.55908203125\n",
            "step = 59200: loss = 958.8720703125\n",
            "step = 59400: loss = 789.3126831054688\n",
            "step = 59600: loss = 454.3577880859375\n",
            "step = 59800: loss = 1276.80712890625\n",
            "step = 60000: loss = 474.09857177734375\n",
            "step = 60000: Average Return = 500.0\n",
            "step = 60200: loss = 842.258056640625\n",
            "step = 60400: loss = 50314.21875\n",
            "step = 60600: loss = 99945.578125\n",
            "step = 60800: loss = 488.1419982910156\n",
            "step = 61000: loss = 987.5208129882812\n",
            "step = 61200: loss = 385.272216796875\n",
            "step = 61400: loss = 253.47589111328125\n",
            "step = 61600: loss = 546.3749389648438\n",
            "step = 61800: loss = 395.80706787109375\n",
            "step = 62000: loss = 1812.84619140625\n",
            "step = 62000: Average Return = 500.0\n",
            "step = 62200: loss = 405.71051025390625\n",
            "step = 62400: loss = 1124.8411865234375\n",
            "step = 62600: loss = 976.0975341796875\n",
            "step = 62800: loss = 567.3117065429688\n",
            "step = 63000: loss = 672.267822265625\n",
            "step = 63200: loss = 1001.6372680664062\n",
            "step = 63400: loss = 1029.439453125\n",
            "step = 63600: loss = 579.7918701171875\n",
            "step = 63800: loss = 502.57318115234375\n",
            "step = 64000: loss = 301.48944091796875\n",
            "step = 64000: Average Return = 500.0\n",
            "step = 64200: loss = 207512.890625\n",
            "step = 64400: loss = 770.2357177734375\n",
            "step = 64600: loss = 798.0360107421875\n",
            "step = 64800: loss = 35880.56640625\n",
            "step = 65000: loss = 1285.2113037109375\n",
            "step = 65200: loss = 2642.7646484375\n",
            "step = 65400: loss = 295.17388916015625\n",
            "step = 65600: loss = 825.9241943359375\n",
            "step = 65800: loss = 503.8108215332031\n",
            "step = 66000: loss = 1952.9443359375\n",
            "step = 66000: Average Return = 500.0\n",
            "step = 66200: loss = 2018.580810546875\n",
            "step = 66400: loss = 1147.4228515625\n",
            "step = 66600: loss = 521.2762451171875\n",
            "step = 66800: loss = 787.2030029296875\n",
            "step = 67000: loss = 402.0831298828125\n",
            "step = 67200: loss = 201.328369140625\n",
            "step = 67400: loss = 880.0776977539062\n",
            "step = 67600: loss = 1186.021484375\n",
            "step = 67800: loss = 432.49969482421875\n",
            "step = 68000: loss = 261.018798828125\n",
            "step = 68000: Average Return = 500.0\n",
            "step = 68200: loss = 1197.7862548828125\n",
            "step = 68400: loss = 955.3742065429688\n",
            "step = 68600: loss = 5435.22900390625\n",
            "step = 68800: loss = 710.4818725585938\n",
            "step = 69000: loss = 860.0301513671875\n",
            "step = 69200: loss = 2796.09619140625\n",
            "step = 69400: loss = 616.2918701171875\n",
            "step = 69600: loss = 841.6459350585938\n",
            "step = 69800: loss = 1588.197509765625\n",
            "step = 70000: loss = 1090.3919677734375\n",
            "step = 70000: Average Return = 500.0\n",
            "step = 70200: loss = 727.6175537109375\n",
            "step = 70400: loss = 285.6939697265625\n",
            "step = 70600: loss = 904.09228515625\n",
            "step = 70800: loss = 695.601806640625\n",
            "step = 71000: loss = 457.8419189453125\n",
            "step = 71200: loss = 1498.43115234375\n",
            "step = 71400: loss = 330.8618469238281\n",
            "step = 71600: loss = 1049.025146484375\n",
            "step = 71800: loss = 1306.488037109375\n",
            "step = 72000: loss = 1254.9193115234375\n",
            "step = 72000: Average Return = 500.0\n",
            "step = 72200: loss = 57409.359375\n",
            "step = 72400: loss = 894.0115966796875\n",
            "step = 72600: loss = 774.6685791015625\n",
            "step = 72800: loss = 998.7987670898438\n",
            "step = 73000: loss = 1225.2125244140625\n",
            "step = 73200: loss = 418393.28125\n",
            "step = 73400: loss = 300.2001953125\n",
            "step = 73600: loss = 1228.931884765625\n",
            "step = 73800: loss = 419.64996337890625\n",
            "step = 74000: loss = 476.52911376953125\n",
            "step = 74000: Average Return = 500.0\n",
            "step = 74200: loss = 311.4228515625\n",
            "step = 74400: loss = 641.0662841796875\n",
            "step = 74600: loss = 1163.899658203125\n",
            "step = 74800: loss = 758.54443359375\n",
            "step = 75000: loss = 1229.4248046875\n",
            "step = 75200: loss = 1046.1513671875\n",
            "step = 75400: loss = 1442.619873046875\n",
            "step = 75600: loss = 815.4080810546875\n",
            "step = 75800: loss = 343117.71875\n",
            "step = 76000: loss = 216.8722381591797\n",
            "step = 76000: Average Return = 500.0\n",
            "step = 76200: loss = 546.7852783203125\n",
            "step = 76400: loss = 358.56146240234375\n",
            "step = 76600: loss = 805.97265625\n",
            "step = 76800: loss = 801.6251220703125\n",
            "step = 77000: loss = 2891.292724609375\n",
            "step = 77200: loss = 177156.21875\n",
            "step = 77400: loss = 975.8971557617188\n",
            "step = 77600: loss = 1709.920166015625\n",
            "step = 77800: loss = 1354.685302734375\n",
            "step = 78000: loss = 1115.3004150390625\n",
            "step = 78000: Average Return = 500.0\n",
            "step = 78200: loss = 1659.947265625\n",
            "step = 78400: loss = 1881.19140625\n",
            "step = 78600: loss = 90291.109375\n",
            "step = 78800: loss = 364.4569091796875\n",
            "step = 79000: loss = 1459.756591796875\n",
            "step = 79200: loss = 985.9610595703125\n",
            "step = 79400: loss = 1738.33544921875\n",
            "step = 79600: loss = 796.06640625\n",
            "step = 79800: loss = 687.1277465820312\n",
            "step = 80000: loss = 421153.15625\n",
            "step = 80000: Average Return = 500.0\n",
            "step = 80200: loss = 808.6190185546875\n",
            "step = 80400: loss = 1227.5947265625\n",
            "step = 80600: loss = 579.4207763671875\n",
            "step = 80800: loss = 396.9721984863281\n",
            "step = 81000: loss = 1965.682373046875\n",
            "step = 81200: loss = 1057.76220703125\n",
            "step = 81400: loss = 859.1320190429688\n",
            "step = 81600: loss = 910.7364501953125\n",
            "step = 81800: loss = 2510.6123046875\n",
            "step = 82000: loss = 383602.5625\n",
            "step = 82000: Average Return = 500.0\n",
            "step = 82200: loss = 2185.641357421875\n",
            "step = 82400: loss = 1731.98486328125\n",
            "step = 82600: loss = 1223.1624755859375\n",
            "step = 82800: loss = 1426.882568359375\n",
            "step = 83000: loss = 2214.05908203125\n",
            "step = 83200: loss = 1167.9539794921875\n",
            "step = 83400: loss = 2007.811279296875\n",
            "step = 83600: loss = 1422.1192626953125\n",
            "step = 83800: loss = 888.9456176757812\n",
            "step = 84000: loss = 556.5078125\n",
            "step = 84000: Average Return = 500.0\n",
            "step = 84200: loss = 474.5957946777344\n",
            "step = 84400: loss = 308531.09375\n",
            "step = 84600: loss = 211.20628356933594\n",
            "step = 84800: loss = 919.2803344726562\n",
            "step = 85000: loss = 869.238525390625\n",
            "step = 85200: loss = 456.25189208984375\n",
            "step = 85400: loss = 3243.11669921875\n",
            "step = 85600: loss = 1367.5589599609375\n",
            "step = 85800: loss = 368313.6875\n",
            "step = 86000: loss = 1075.15234375\n",
            "step = 86000: Average Return = 500.0\n",
            "step = 86200: loss = 1040.708740234375\n",
            "step = 86400: loss = 587.261962890625\n",
            "step = 86600: loss = 1154.8209228515625\n",
            "step = 86800: loss = 6463.33544921875\n",
            "step = 87000: loss = 948.2557983398438\n",
            "step = 87200: loss = 1804.40087890625\n",
            "step = 87400: loss = 1878.705322265625\n",
            "step = 87600: loss = 1147.65576171875\n",
            "step = 87800: loss = 1187.076416015625\n",
            "step = 88000: loss = 1943.7008056640625\n",
            "step = 88000: Average Return = 500.0\n",
            "step = 88200: loss = 486.4530334472656\n",
            "step = 88400: loss = 569.6405029296875\n",
            "step = 88600: loss = 696.0234985351562\n",
            "step = 88800: loss = 110224.7421875\n",
            "step = 89000: loss = 155565.09375\n",
            "step = 89200: loss = 1805.673828125\n",
            "step = 89400: loss = 1133.196533203125\n",
            "step = 89600: loss = 960.5421752929688\n",
            "step = 89800: loss = 3134.61474609375\n",
            "step = 90000: loss = 1345.925048828125\n",
            "step = 90000: Average Return = 500.0\n",
            "step = 90200: loss = 1278.944580078125\n",
            "step = 90400: loss = 917.8001708984375\n",
            "step = 90600: loss = 508.8175964355469\n",
            "step = 90800: loss = 2277.168212890625\n",
            "step = 91000: loss = 1102.7003173828125\n",
            "step = 91200: loss = 1547.29296875\n",
            "step = 91400: loss = 1315.410888671875\n",
            "step = 91600: loss = 1265.762939453125\n",
            "step = 91800: loss = 154154.21875\n",
            "step = 92000: loss = 511.3725891113281\n",
            "step = 92000: Average Return = 500.0\n",
            "step = 92200: loss = 6704.60205078125\n",
            "step = 92400: loss = 1575.82470703125\n",
            "step = 92600: loss = 1125.70751953125\n",
            "step = 92800: loss = 2047.8582763671875\n",
            "step = 93000: loss = 2259.415771484375\n",
            "step = 93200: loss = 1940.267333984375\n",
            "step = 93400: loss = 2060.052734375\n",
            "step = 93600: loss = 1612.490234375\n",
            "step = 93800: loss = 1680.670654296875\n",
            "step = 94000: loss = 1325.624755859375\n",
            "step = 94000: Average Return = 500.0\n",
            "step = 94200: loss = 825.8868408203125\n",
            "step = 94400: loss = 1593.265380859375\n",
            "step = 94600: loss = 1072.68603515625\n",
            "step = 94800: loss = 1503.109375\n",
            "step = 95000: loss = 1286.368896484375\n",
            "step = 95200: loss = 9657.9326171875\n",
            "step = 95400: loss = 1182.411865234375\n",
            "step = 95600: loss = 438.1458740234375\n",
            "step = 95800: loss = 865.2622680664062\n",
            "step = 96000: loss = 1682.087890625\n",
            "step = 96000: Average Return = 500.0\n",
            "step = 96200: loss = 1302.968505859375\n",
            "step = 96400: loss = 1354.925537109375\n",
            "step = 96600: loss = 1092.672607421875\n",
            "step = 96800: loss = 1749.052978515625\n",
            "step = 97000: loss = 1622.291015625\n",
            "step = 97200: loss = 1879.4691162109375\n",
            "step = 97400: loss = 1709.5430908203125\n",
            "step = 97600: loss = 749.0855712890625\n",
            "step = 97800: loss = 3646.19482421875\n",
            "step = 98000: loss = 713.9188232421875\n",
            "step = 98000: Average Return = 500.0\n",
            "step = 98200: loss = 3067.15673828125\n",
            "step = 98400: loss = 2869.08984375\n",
            "step = 98600: loss = 877.2796630859375\n",
            "step = 98800: loss = 320.4327392578125\n",
            "step = 99000: loss = 2088.41845703125\n",
            "step = 99200: loss = 2169.291015625\n",
            "step = 99400: loss = 2859.506103515625\n",
            "step = 99600: loss = 2119.716552734375\n",
            "step = 99800: loss = 1070.5888671875\n",
            "step = 100000: loss = 1468.48388671875\n",
            "step = 100000: Average Return = 500.0\n"
          ],
          "name": "stdout"
        }
      ]
    },
    {
      "cell_type": "code",
      "metadata": {
        "id": "cLMPSy1wYfSR"
      },
      "source": [
        ""
      ],
      "execution_count": null,
      "outputs": []
    },
    {
      "cell_type": "markdown",
      "metadata": {
        "id": "i4oltEedYlhX"
      },
      "source": [
        "# Evaluation"
      ]
    },
    {
      "cell_type": "code",
      "metadata": {
        "colab": {
          "base_uri": "https://localhost:8080/"
        },
        "id": "mXyfXYpeYkyX",
        "outputId": "4bf3021e-1de8-4e96-8139-65ea8005ee11"
      },
      "source": [
        "eval_py_env = CustomCartPoleEnv(mu=0.0, sigma = 0.5)\n",
        "eval_py_env = wrappers.TimeLimit(eval_py_env, 500)\n",
        "eval_env = tf_py_environment.TFPyEnvironment(eval_py_env)\n",
        "\n",
        "compute_avg_return(eval_env, agent.policy, num_eval_episodes)"
      ],
      "execution_count": 31,
      "outputs": [
        {
          "output_type": "execute_result",
          "data": {
            "text/plain": [
              "500.0"
            ]
          },
          "metadata": {
            "tags": []
          },
          "execution_count": 31
        }
      ]
    },
    {
      "cell_type": "markdown",
      "metadata": {
        "id": "A4tzfaswMBUK"
      },
      "source": [
        "# Test Target tasks with Different Dynamics "
      ]
    },
    {
      "cell_type": "code",
      "metadata": {
        "colab": {
          "base_uri": "https://localhost:8080/"
        },
        "id": "1s7a9I_VPV1n",
        "outputId": "9092de48-8eeb-4f92-a300-6a3482507022"
      },
      "source": [
        "# we assume that mu is same between source and target (i.e. mu=0.0)\n",
        "sigmas = [0.0, 1.0, 3.0, 5.0, 10.0]\n",
        "for sigma in sigmas :\n",
        "  trg_py_env = CustomCartPoleEnv(mu=0.0, sigma = sigma)\n",
        "  trg_py_env = wrappers.TimeLimit(trg_py_env, 500)\n",
        "  trg_env = tf_py_environment.TFPyEnvironment(trg_py_env)\n",
        "  avg = compute_avg_return(trg_env, agent.policy, num_eval_episodes)\n",
        "  print (sigma, '->', avg)"
      ],
      "execution_count": 30,
      "outputs": [
        {
          "output_type": "stream",
          "text": [
            "0.0 -> 500.0\n",
            "1.0 -> 500.0\n",
            "3.0 -> 500.0\n",
            "5.0 -> 500.0\n",
            "10.0 -> 442.6\n"
          ],
          "name": "stdout"
        }
      ]
    },
    {
      "cell_type": "markdown",
      "metadata": {
        "id": "RRLnE35ALw1N"
      },
      "source": [
        "# Visualization"
      ]
    },
    {
      "cell_type": "markdown",
      "metadata": {
        "id": "BOBS12v7Y8lm"
      },
      "source": [
        "### Plot"
      ]
    },
    {
      "cell_type": "code",
      "metadata": {
        "id": "AJxEoZ4HoyjR",
        "colab": {
          "base_uri": "https://localhost:8080/",
          "height": 296
        },
        "outputId": "d3436cd1-3138-4ac0-9e08-a8a0ffc2e949"
      },
      "source": [
        "#@test {\"skip\": true}\n",
        "\n",
        "iterations = range(0, num_iterations + 1, eval_interval)\n",
        "plt.plot(iterations, returns)\n",
        "plt.ylabel('Average Return')\n",
        "plt.xlabel('Iterations')\n",
        "plt.ylim(top=550)"
      ],
      "execution_count": 25,
      "outputs": [
        {
          "output_type": "execute_result",
          "data": {
            "text/plain": [
              "(17.42000160217285, 550.0)"
            ]
          },
          "metadata": {
            "tags": []
          },
          "execution_count": 25
        },
        {
          "output_type": "display_data",
          "data": {
            "image/png": "[encoded data removed]",
            "text/plain": [
              "<Figure size 432x288 with 1 Axes>"
            ]
          },
          "metadata": {
            "tags": [],
            "needs_background": "light"
          }
        }
      ]
    },
    {
      "cell_type": "markdown",
      "metadata": {
        "id": "BE8jLTxEL30m"
      },
      "source": [
        "### Videos"
      ]
    },
    {
      "cell_type": "code",
      "metadata": {
        "id": "WKBDDZqKTxsL"
      },
      "source": [
        "def embed_mp4(filename):\n",
        "  \"\"\"Embeds an mp4 file in the notebook.\"\"\"\n",
        "  video = open(filename,'rb').read()\n",
        "  b64 = base64.b64encode(video)\n",
        "  tag = '''\n",
        "  <video width=\"640\" height=\"480\" controls>\n",
        "    <source src=\"data:video/mp4;base64,{0}\" type=\"video/mp4\">\n",
        "  Your browser does not support the video tag.\n",
        "  </video>'''.format(b64.decode())\n",
        "\n",
        "  return IPython.display.HTML(tag)"
      ],
      "execution_count": 26,
      "outputs": []
    },
    {
      "cell_type": "code",
      "metadata": {
        "id": "UYerqyNfnVRL",
        "colab": {
          "base_uri": "https://localhost:8080/",
          "height": 537
        },
        "outputId": "e6b7a347-3a85-4b86-831a-459b430643d9"
      },
      "source": [
        "def create_policy_eval_video(policy, filename, num_episodes=5, fps=30):\n",
        "  filename = filename + \".mp4\"\n",
        "  with imageio.get_writer(filename, fps=fps) as video:\n",
        "    for _ in range(num_episodes):\n",
        "      time_step = eval_env.reset()\n",
        "      video.append_data(eval_env.render()[0].numpy())\n",
        "      while not time_step.is_last():\n",
        "        action_step = policy.action(time_step)\n",
        "        time_step = eval_env.step(action_step.action)\n",
        "        video.append_data(eval_env.render()[0].numpy())\n",
        "  return embed_mp4(filename)\n",
        "\n",
        "\n",
        "create_policy_eval_video(agent.policy, \"trained-agent\")"
      ],
      "execution_count": 27,
      "outputs": [
        {
          "output_type": "stream",
          "text": [
            "WARNING:root:IMAGEIO FFMPEG_WRITER WARNING: input image is not divisible by macro_block_size=16, resizing from (400, 600) to (400, 608) to ensure video compatibility with most codecs and players. To prevent resizing, make your input image divisible by the macro_block_size or set the macro_block_size to None (risking incompatibility). You may also see a FFMPEG warning concerning speedloss due to data not being aligned.\n"
          ],
          "name": "stderr"
        },
        {
          "output_type": "execute_result",
          "data": {
            "text/html": [
              "\n",
              "  <video width=\"640\" height=\"480\" controls>\n",
              "    <source src=\"data:video/mp4;base64,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\" type=\"video/mp4\">\n",
              "  Your browser does not support the video tag.\n",
              "  </video>"
            ],
            "text/plain": [
              "<IPython.core.display.HTML object>"
            ]
          },
          "metadata": {
            "tags": []
          },
          "execution_count": 27
        }
      ]
    }
  ]
}