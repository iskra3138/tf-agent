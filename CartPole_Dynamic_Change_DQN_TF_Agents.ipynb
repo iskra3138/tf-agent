{
  "nbformat": 4,
  "nbformat_minor": 0,
  "metadata": {
    "colab": {
      "name": "CartPole_Dynamic_Change_DQN_TF_Agents.ipynb",
      "provenance": [],
      "collapsed_sections": [],
      "toc_visible": true,
      "include_colab_link": true
    },
    "kernelspec": {
      "display_name": "Python 3",
      "name": "python3"
    }
  },
  "cells": [
    {
      "cell_type": "markdown",
      "metadata": {
        "id": "view-in-github",
        "colab_type": "text"
      },
      "source": [
        "<a href=\"https://colab.research.google.com/github/iskra3138/tf-agent/blob/main/CartPole_Dynamic_Change_DQN_TF_Agents.ipynb\" target=\"_parent\"><img src=\"https://colab.research.google.com/assets/colab-badge.svg\" alt=\"Open In Colab\"/></a>"
      ]
    },
    {
      "cell_type": "markdown",
      "metadata": {
        "id": "4_16bQF0anmE"
      },
      "source": [
        "## Setup\n"
      ]
    },
    {
      "cell_type": "code",
      "metadata": {
        "id": "KKU2iY_7at8Y",
        "colab": {
          "base_uri": "https://localhost:8080/"
        },
        "outputId": "c040d82e-f382-4766-a835-817284679e69"
      },
      "source": [
        "!sudo apt-get install -y xvfb ffmpeg\n",
        "!pip install gym\n",
        "!pip install 'imageio==2.4.0'\n",
        "!pip install PILLOW\n",
        "!pip install pyglet\n",
        "!pip install pyvirtualdisplay\n",
        "!pip install tf-agents"
      ],
      "execution_count": 1,
      "outputs": [
        {
          "output_type": "stream",
          "text": [
            "Reading package lists... Done\n",
            "Building dependency tree       \n",
            "Reading state information... Done\n",
            "ffmpeg is already the newest version (7:3.4.8-0ubuntu0.2).\n",
            "xvfb is already the newest version (2:1.19.6-1ubuntu4.7).\n",
            "0 upgraded, 0 newly installed, 0 to remove and 14 not upgraded.\n",
            "Requirement already satisfied: gym in /usr/local/lib/python3.6/dist-packages (0.17.3)\n",
            "Requirement already satisfied: cloudpickle<1.7.0,>=1.2.0 in /usr/local/lib/python3.6/dist-packages (from gym) (1.3.0)\n",
            "Requirement already satisfied: pyglet<=1.5.0,>=1.4.0 in /usr/local/lib/python3.6/dist-packages (from gym) (1.5.0)\n",
            "Requirement already satisfied: scipy in /usr/local/lib/python3.6/dist-packages (from gym) (1.4.1)\n",
            "Requirement already satisfied: numpy>=1.10.4 in /usr/local/lib/python3.6/dist-packages (from gym) (1.18.5)\n",
            "Requirement already satisfied: future in /usr/local/lib/python3.6/dist-packages (from pyglet<=1.5.0,>=1.4.0->gym) (0.16.0)\n",
            "Requirement already satisfied: imageio==2.4.0 in /usr/local/lib/python3.6/dist-packages (2.4.0)\n",
            "Requirement already satisfied: pillow in /usr/local/lib/python3.6/dist-packages (from imageio==2.4.0) (7.0.0)\n",
            "Requirement already satisfied: numpy in /usr/local/lib/python3.6/dist-packages (from imageio==2.4.0) (1.18.5)\n",
            "Requirement already satisfied: PILLOW in /usr/local/lib/python3.6/dist-packages (7.0.0)\n",
            "Requirement already satisfied: pyglet in /usr/local/lib/python3.6/dist-packages (1.5.0)\n",
            "Requirement already satisfied: future in /usr/local/lib/python3.6/dist-packages (from pyglet) (0.16.0)\n",
            "Requirement already satisfied: pyvirtualdisplay in /usr/local/lib/python3.6/dist-packages (1.3.2)\n",
            "Requirement already satisfied: EasyProcess in /usr/local/lib/python3.6/dist-packages (from pyvirtualdisplay) (0.3)\n",
            "Requirement already satisfied: tf-agents in /usr/local/lib/python3.6/dist-packages (0.6.0)\n",
            "Requirement already satisfied: cloudpickle==1.3 in /usr/local/lib/python3.6/dist-packages (from tf-agents) (1.3.0)\n",
            "Requirement already satisfied: wrapt>=1.11.1 in /usr/local/lib/python3.6/dist-packages (from tf-agents) (1.12.1)\n",
            "Requirement already satisfied: numpy>=1.13.3 in /usr/local/lib/python3.6/dist-packages (from tf-agents) (1.18.5)\n",
            "Requirement already satisfied: six>=1.10.0 in /usr/local/lib/python3.6/dist-packages (from tf-agents) (1.15.0)\n",
            "Requirement already satisfied: gin-config>=0.3.0 in /usr/local/lib/python3.6/dist-packages (from tf-agents) (0.3.0)\n",
            "Requirement already satisfied: absl-py>=0.6.1 in /usr/local/lib/python3.6/dist-packages (from tf-agents) (0.10.0)\n",
            "Requirement already satisfied: tensorflow-probability>=0.11.0 in /usr/local/lib/python3.6/dist-packages (from tf-agents) (0.11.0)\n",
            "Requirement already satisfied: protobuf>=3.11.3 in /usr/local/lib/python3.6/dist-packages (from tf-agents) (3.12.4)\n",
            "Requirement already satisfied: decorator in /usr/local/lib/python3.6/dist-packages (from tensorflow-probability>=0.11.0->tf-agents) (4.4.2)\n",
            "Requirement already satisfied: gast>=0.3.2 in /usr/local/lib/python3.6/dist-packages (from tensorflow-probability>=0.11.0->tf-agents) (0.3.3)\n",
            "Requirement already satisfied: dm-tree in /usr/local/lib/python3.6/dist-packages (from tensorflow-probability>=0.11.0->tf-agents) (0.1.5)\n",
            "Requirement already satisfied: setuptools in /usr/local/lib/python3.6/dist-packages (from protobuf>=3.11.3->tf-agents) (50.3.2)\n"
          ],
          "name": "stdout"
        }
      ]
    },
    {
      "cell_type": "code",
      "metadata": {
        "id": "1ZAoFNwnRbKK"
      },
      "source": [
        "from __future__ import absolute_import\n",
        "from __future__ import division\n",
        "from __future__ import print_function\n",
        "\n",
        "import abc\n",
        "import tensorflow as tf\n",
        "import numpy as np\n",
        "\n",
        "from tf_agents.environments import py_environment\n",
        "from tf_agents.environments import tf_environment\n",
        "from tf_agents.environments import tf_py_environment\n",
        "from tf_agents.environments import utils\n",
        "from tf_agents.specs import array_spec\n",
        "from tf_agents.environments import wrappers\n",
        "from tf_agents.environments import suite_gym\n",
        "from tf_agents.trajectories import time_step as ts\n",
        "\n",
        "tf.compat.v1.enable_v2_behavior()"
      ],
      "execution_count": 2,
      "outputs": []
    },
    {
      "cell_type": "markdown",
      "metadata": {
        "id": "YSwkQcgfF1wx"
      },
      "source": [
        "# Define a Custom CartPole Class for TF-Agents\n",
        "\n",
        "- replace deterministic dynamics to stochastic dynamics by adding gaussian noise to force_mag used by action at `_step` function"
      ]
    },
    {
      "cell_type": "code",
      "metadata": {
        "id": "wcLXvjeoPM5Z"
      },
      "source": [
        "import math\n",
        "from gym.utils import seeding\n",
        "from gym import spaces, logger\n",
        "\n",
        "class CustomCartPoleEnv(py_environment.PyEnvironment):\n",
        "\n",
        "  def __init__(self, mu=0, sigma=0):\n",
        "    self.gravity = 9.8\n",
        "    self.masscart = 1.0\n",
        "    self.masspole = 0.1\n",
        "    self.total_mass = (self.masspole + self.masscart)\n",
        "    self.length = 0.5  # actually half the pole's length\n",
        "    self.polemass_length = (self.masspole * self.length)\n",
        "    self.force_mag = 10.0\n",
        "    self.tau = 0.02  # seconds between state updates\n",
        "    self.mu = mu\n",
        "    self.sigma = sigma\n",
        "    self.kinematics_integrator = 'euler'\n",
        "\n",
        "    # Angle at which to fail the episode\n",
        "    self.theta_threshold_radians = 12 * 2 * math.pi / 360\n",
        "    self.x_threshold = 2.4\n",
        "\n",
        "    # Angle limit set to 2 * theta_threshold_radians so failing observation\n",
        "    # is still within bounds.\n",
        "    high = np.array([self.x_threshold * 2,\n",
        "                      np.finfo(np.float32).max,\n",
        "                      self.theta_threshold_radians * 2,\n",
        "                      np.finfo(np.float32).max],\n",
        "                    dtype=np.float32)\n",
        "\n",
        "    self.seed()\n",
        "    self.viewer = None\n",
        "\n",
        "    self.steps_beyond_done = None\n",
        "\n",
        "    self._action_spec = array_spec.BoundedArraySpec(\n",
        "        shape=(), dtype=np.int32, minimum=0, maximum=1, name='action')\n",
        "    \n",
        "    self._observation_spec = array_spec.BoundedArraySpec(\n",
        "        shape=(4,), dtype=np.float32, minimum=-high, maximum= high, name='observation')\n",
        "    \n",
        "    self._state = None\n",
        "    self._episode_ended = False\n",
        "\n",
        "  def seed(self, seed=None):\n",
        "    self.np_random, seed = seeding.np_random(seed)\n",
        "    return [seed]\n",
        "\n",
        "  def action_spec(self):\n",
        "    return self._action_spec\n",
        "\n",
        "  def observation_spec(self):\n",
        "    return self._observation_spec\n",
        "\n",
        "  def _reset(self):\n",
        "    self._state = self.np_random.uniform(low=-0.05, high=0.05, size=(4,))\n",
        "\n",
        "    self.steps_beyond_done = None\n",
        "    self._episode_ended = False\n",
        "    return ts.restart(np.array(self._state, dtype=np.float32))\n",
        "\n",
        "  def _step(self, action):\n",
        "    if self._episode_ended:\n",
        "      # The last action ended the episode. Ignore the current action and start\n",
        "      # a new episode.\n",
        "      return self.reset()\n",
        "\n",
        "    err_msg = \"%r (%s) invalid\" % (action, type(action))\n",
        "    assert self._action_spec.check_array(action), err_msg\n",
        "\n",
        "    x, x_dot, theta, theta_dot = self._state\n",
        "\n",
        "    ### to replace a deterministic action with a stochastic action \n",
        "    #force = self.force_mag if action == 1 else -self.force_mag\n",
        "    stochastic_force = self.force_mag + np.random.normal(self.mu, self.sigma)\n",
        "    force = stochastic_force if action == 1 else -stochastic_force\n",
        "\n",
        "    costheta = math.cos(theta)\n",
        "    sintheta = math.sin(theta)\n",
        "\n",
        "    # For the interested reader:\n",
        "    # https://coneural.org/florian/papers/05_cart_pole.pdf\n",
        "    temp = (force + self.polemass_length * theta_dot ** 2 * sintheta) / self.total_mass\n",
        "    thetaacc = (self.gravity * sintheta - costheta * temp) / (self.length * (4.0 / 3.0 - self.masspole * costheta ** 2 / self.total_mass))\n",
        "    xacc = temp - self.polemass_length * thetaacc * costheta / self.total_mass\n",
        "\n",
        "    if self.kinematics_integrator == 'euler':\n",
        "        x = x + self.tau * x_dot\n",
        "        x_dot = x_dot + self.tau * xacc\n",
        "        theta = theta + self.tau * theta_dot\n",
        "        theta_dot = theta_dot + self.tau * thetaacc\n",
        "    else:  # semi-implicit euler\n",
        "        x_dot = x_dot + self.tau * xacc\n",
        "        x = x + self.tau * x_dot\n",
        "        theta_dot = theta_dot + self.tau * thetaacc\n",
        "        theta = theta + self.tau * theta_dot\n",
        "\n",
        "    self._state = (x, x_dot, theta, theta_dot)\n",
        "\n",
        "    done = bool(\n",
        "        x < -self.x_threshold\n",
        "        or x > self.x_threshold\n",
        "        or theta < -self.theta_threshold_radians\n",
        "        or theta > self.theta_threshold_radians\n",
        "    )\n",
        "\n",
        "    if not done:\n",
        "        reward = 1.0\n",
        "    elif self.steps_beyond_done is None:\n",
        "        # Pole just fell!\n",
        "        self.steps_beyond_done = 0\n",
        "        reward = 1.0\n",
        "    else:\n",
        "        if self.steps_beyond_done == 0:\n",
        "            logger.warn(\n",
        "                \"You are calling 'step()' even though this \"\n",
        "                \"environment has already returned done = True. You \"\n",
        "                \"should always call 'reset()' once you receive 'done = \"\n",
        "                \"True' -- any further steps are undefined behavior.\"\n",
        "            )\n",
        "        self.steps_beyond_done += 1\n",
        "        reward = 0.0\n",
        "\n",
        "    if done:\n",
        "      return ts.termination(np.array(self._state, dtype=np.float32), reward)\n",
        "    else:\n",
        "      return ts.transition(\n",
        "          np.array(self._state, dtype=np.float32), reward)\n",
        "      \n",
        "  def render(self, mode='human'):\n",
        "    screen_width = 600\n",
        "    screen_height = 400\n",
        "\n",
        "    world_width = self.x_threshold * 2\n",
        "    scale = screen_width/world_width\n",
        "    carty = 100  # TOP OF CART\n",
        "    polewidth = 10.0\n",
        "    polelen = scale * (2 * self.length)\n",
        "    cartwidth = 50.0\n",
        "    cartheight = 30.0\n",
        "\n",
        "    if self.viewer is None:\n",
        "      from gym.envs.classic_control import rendering\n",
        "      self.viewer = rendering.Viewer(screen_width, screen_height)\n",
        "      l, r, t, b = -cartwidth / 2, cartwidth / 2, cartheight / 2, -cartheight / 2\n",
        "      axleoffset = cartheight / 4.0\n",
        "      cart = rendering.FilledPolygon([(l, b), (l, t), (r, t), (r, b)])\n",
        "      self.carttrans = rendering.Transform()\n",
        "      cart.add_attr(self.carttrans)\n",
        "      self.viewer.add_geom(cart)\n",
        "      l, r, t, b = -polewidth / 2, polewidth / 2, polelen - polewidth / 2, -polewidth / 2\n",
        "      pole = rendering.FilledPolygon([(l, b), (l, t), (r, t), (r, b)])\n",
        "      pole.set_color(.8, .6, .4)\n",
        "      self.poletrans = rendering.Transform(translation=(0, axleoffset))\n",
        "      pole.add_attr(self.poletrans)\n",
        "      pole.add_attr(self.carttrans)\n",
        "      self.viewer.add_geom(pole)\n",
        "      self.axle = rendering.make_circle(polewidth/2)\n",
        "      self.axle.add_attr(self.poletrans)\n",
        "      self.axle.add_attr(self.carttrans)\n",
        "      self.axle.set_color(.5, .5, .8)\n",
        "      self.viewer.add_geom(self.axle)\n",
        "      self.track = rendering.Line((0, carty), (screen_width, carty))\n",
        "      self.track.set_color(0, 0, 0)\n",
        "      self.viewer.add_geom(self.track)\n",
        "\n",
        "      self._pole_geom = pole\n",
        "\n",
        "    if self._state is None:\n",
        "      return None\n",
        "\n",
        "    # Edit the pole polygon vertex\n",
        "    pole = self._pole_geom\n",
        "    l, r, t, b = -polewidth / 2, polewidth / 2, polelen - polewidth / 2, -polewidth / 2\n",
        "    pole.v = [(l, b), (l, t), (r, t), (r, b)]\n",
        "\n",
        "    x = self._state\n",
        "    cartx = x[0] * scale + screen_width / 2.0  # MIDDLE OF CART\n",
        "    self.carttrans.set_translation(cartx, carty)\n",
        "    self.poletrans.set_rotation(-x[2])\n",
        "\n",
        "    return self.viewer.render(return_rgb_array=mode == 'rgb_array')\n",
        "\n",
        "  def close(self):\n",
        "    if self.viewer:\n",
        "      self.viewer.close()\n",
        "      self.viewer = None"
      ],
      "execution_count": 3,
      "outputs": []
    },
    {
      "cell_type": "markdown",
      "metadata": {
        "id": "Qz-ubGGBVX5I"
      },
      "source": [
        "### Verify that the class is properly defined"
      ]
    },
    {
      "cell_type": "code",
      "metadata": {
        "id": "r6VqM2EqZxtR"
      },
      "source": [
        "# Validates the environment follows the defined specs.\n",
        "environment = CustomCartPoleEnv()\n",
        "environment.seed(1)\n",
        "utils.validate_py_environment(environment, episodes=5)"
      ],
      "execution_count": 4,
      "outputs": []
    },
    {
      "cell_type": "code",
      "metadata": {
        "colab": {
          "base_uri": "https://localhost:8080/"
        },
        "id": "tdNZtvPkT-D4",
        "outputId": "a9a50ec5-6410-4c80-d0e0-d0c4d83662e1"
      },
      "source": [
        "# Check a deterministic action\n",
        "environment = CustomCartPoleEnv(mu=0, sigma=0.0)\n",
        "for _ in range(3):\n",
        "  environment.seed(1)\n",
        "  step = environment.reset()\n",
        "  next_step = environment.step(np.array(0, dtype=np.int32))\n",
        "  print (step.observation, '- >', next_step.observation)"
      ],
      "execution_count": 5,
      "outputs": [
        {
          "output_type": "stream",
          "text": [
            "[ 0.03073904  0.00145001 -0.03088818 -0.03131252] - > [ 0.03076804 -0.19321568 -0.03151444  0.25146705]\n",
            "[ 0.03073904  0.00145001 -0.03088818 -0.03131252] - > [ 0.03076804 -0.19321568 -0.03151444  0.25146705]\n",
            "[ 0.03073904  0.00145001 -0.03088818 -0.03131252] - > [ 0.03076804 -0.19321568 -0.03151444  0.25146705]\n"
          ],
          "name": "stdout"
        }
      ]
    },
    {
      "cell_type": "code",
      "metadata": {
        "colab": {
          "base_uri": "https://localhost:8080/"
        },
        "id": "YYNHUByccYre",
        "outputId": "b50d399f-dc43-4c00-b655-8ab370e32f34"
      },
      "source": [
        "# Check a stochastic action\n",
        "environment = CustomCartPoleEnv(mu=0, sigma=0.5)\n",
        "for _ in range(3):\n",
        "  environment.seed(1)\n",
        "  step = environment.reset()\n",
        "  next_step = environment.step(np.array(0, dtype=np.int32))\n",
        "  print (step.observation, '- >', next_step.observation)"
      ],
      "execution_count": 6,
      "outputs": [
        {
          "output_type": "stream",
          "text": [
            "[ 0.03073904  0.00145001 -0.03088818 -0.03131252] - > [ 0.03076804 -0.19998819 -0.03151444  0.26162094]\n",
            "[ 0.03073904  0.00145001 -0.03088818 -0.03131252] - > [ 0.03076804 -0.20177878 -0.03151444  0.2643056 ]\n",
            "[ 0.03073904  0.00145001 -0.03088818 -0.03131252] - > [ 0.03076804 -0.20931973 -0.03151444  0.27561158]\n"
          ],
          "name": "stdout"
        }
      ]
    },
    {
      "cell_type": "code",
      "metadata": {
        "colab": {
          "base_uri": "https://localhost:8080/"
        },
        "id": "62-Xqglljy6t",
        "outputId": "3b916ec8-7419-4116-fd92-27295fbe95aa"
      },
      "source": [
        "# check a deterministic episode\n",
        "environment = CustomCartPoleEnv(mu=0, sigma=0.0)\n",
        "\n",
        "for _ in range(3) :\n",
        "  environment.seed(1)\n",
        "\n",
        "  time_step = environment.reset()\n",
        "  #print(time_step)\n",
        "  i = 0\n",
        "  cumulative_reward = 0\n",
        "  while not time_step.is_last():\n",
        "    action = np.array(i % 2, dtype=np.int32)\n",
        "    i+=1\n",
        "    time_step = environment.step(action)\n",
        "    #print(time_step)\n",
        "    cumulative_reward += time_step.reward\n",
        "\n",
        "  print (cumulative_reward)"
      ],
      "execution_count": 7,
      "outputs": [
        {
          "output_type": "stream",
          "text": [
            "64.0\n",
            "64.0\n",
            "64.0\n"
          ],
          "name": "stdout"
        }
      ]
    },
    {
      "cell_type": "code",
      "metadata": {
        "colab": {
          "base_uri": "https://localhost:8080/"
        },
        "id": "hA16sBp4jy4O",
        "outputId": "3e640047-9a01-44db-8283-f990e422bb00"
      },
      "source": [
        "# check a stochastic episode\n",
        "environment = CustomCartPoleEnv(mu=0, sigma=1.0)\n",
        "\n",
        "for _ in range(3) :\n",
        "  environment.seed(1)\n",
        "\n",
        "  time_step = environment.reset()\n",
        "  #print(time_step)\n",
        "  i = 0\n",
        "  cumulative_reward = 0\n",
        "  while not time_step.is_last():\n",
        "    action = np.array(i % 2, dtype=np.int32)\n",
        "    i+=1\n",
        "    time_step = environment.step(action)\n",
        "    #print(time_step)\n",
        "    cumulative_reward += time_step.reward\n",
        "\n",
        "  print (cumulative_reward)"
      ],
      "execution_count": 8,
      "outputs": [
        {
          "output_type": "stream",
          "text": [
            "64.0\n",
            "70.0\n",
            "38.0\n"
          ],
          "name": "stdout"
        }
      ]
    },
    {
      "cell_type": "markdown",
      "metadata": {
        "id": "2iiae9BnJgo3"
      },
      "source": [
        "# DQN"
      ]
    },
    {
      "cell_type": "code",
      "metadata": {
        "id": "-1Bv5SXkl8WO"
      },
      "source": [
        "from __future__ import absolute_import, division, print_function\n",
        "\n",
        "import base64\n",
        "import imageio\n",
        "import IPython\n",
        "import matplotlib\n",
        "import matplotlib.pyplot as plt\n",
        "import numpy as np\n",
        "import PIL.Image\n",
        "import pyvirtualdisplay\n",
        "\n",
        "import tensorflow as tf\n",
        "\n",
        "\n",
        "from tf_agents.drivers import dynamic_step_driver\n",
        "\n",
        "from tf_agents.environments import tf_py_environment\n",
        "from tf_agents.eval import metric_utils\n",
        "from tf_agents.metrics import tf_metrics\n",
        "\n",
        "from tf_agents.policies import random_tf_policy\n",
        "\n",
        "from tf_agents.trajectories import trajectory\n",
        "from tf_agents.utils import common"
      ],
      "execution_count": 9,
      "outputs": []
    },
    {
      "cell_type": "code",
      "metadata": {
        "id": "-j4P1NZil8mf"
      },
      "source": [
        "tf.compat.v1.enable_v2_behavior()\n",
        "\n",
        "# Set up a virtual display for rendering OpenAI gym environments.\n",
        "display = pyvirtualdisplay.Display(visible=0, size=(1400, 900)).start()"
      ],
      "execution_count": 10,
      "outputs": []
    },
    {
      "cell_type": "markdown",
      "metadata": {
        "id": "dVskfO1cJpZc"
      },
      "source": [
        "### Set Hyperparameters"
      ]
    },
    {
      "cell_type": "code",
      "metadata": {
        "id": "p1PcYxWml8rg"
      },
      "source": [
        "# Hyperparameters for training\n",
        "num_iterations = 100000 # @param {type:\"integer\"}\n",
        "batch_size = 64  # @param {type:\"integer\"}\n",
        "learning_rate = 1e-3  # @param {type:\"number\"}\n",
        "\n",
        "# Hyperparameters for data collection\n",
        "initial_collect_steps = 100  # @param {type:\"integer\"} \n",
        "collect_steps_per_iteration = 1  # @param {type:\"integer\"}\n",
        "replay_buffer_max_length = 100000  # @param {type:\"integer\"}\n",
        "\n",
        "# Hyperparameters for monitoring\n",
        "log_interval = 200  # @param {type:\"integer\"}\n",
        "num_eval_episodes = 10  # @param {type:\"integer\"}\n",
        "eval_interval = 2000  # @param {type:\"integer\"}"
      ],
      "execution_count": 11,
      "outputs": []
    },
    {
      "cell_type": "markdown",
      "metadata": {
        "id": "vQAdE0E7JuoA"
      },
      "source": [
        "### Define Environments"
      ]
    },
    {
      "cell_type": "code",
      "metadata": {
        "id": "59LKzT5rmHs7"
      },
      "source": [
        "# Define train and eval envrionments for Source task \n",
        "train_py_env = CustomCartPoleEnv(mu=0.0, sigma = 0.5)\n",
        "eval_py_env = CustomCartPoleEnv(mu=0.0, sigma = 0.5)"
      ],
      "execution_count": 12,
      "outputs": []
    },
    {
      "cell_type": "code",
      "metadata": {
        "id": "JddYEVM68wUk"
      },
      "source": [
        "# Wrap an environment to apply maximum_episode_length\n",
        "train_py_env = wrappers.TimeLimit(train_py_env, 500)\n",
        "eval_py_env = wrappers.TimeLimit(eval_py_env, 500)"
      ],
      "execution_count": 13,
      "outputs": []
    },
    {
      "cell_type": "code",
      "metadata": {
        "id": "fM3nKHBpmHqK"
      },
      "source": [
        "# Exposes a Python environment as an in-graph TF environment\n",
        "train_env = tf_py_environment.TFPyEnvironment(train_py_env)\n",
        "eval_env = tf_py_environment.TFPyEnvironment(eval_py_env)"
      ],
      "execution_count": 14,
      "outputs": []
    },
    {
      "cell_type": "code",
      "metadata": {
        "id": "ZpQb3xRTeIcj"
      },
      "source": [
        ""
      ],
      "execution_count": 14,
      "outputs": []
    },
    {
      "cell_type": "markdown",
      "metadata": {
        "id": "fb-L35qMKKxa"
      },
      "source": [
        "Define a DQN Agent"
      ]
    },
    {
      "cell_type": "code",
      "metadata": {
        "id": "NMEGfxg6l8R5"
      },
      "source": [
        "# define Q-Network\n",
        "from tf_agents.networks import q_network\n",
        "\n",
        "fc_layer_params = (100,)\n",
        "\n",
        "q_net = q_network.QNetwork(\n",
        "    train_env.observation_spec(),\n",
        "    train_env.action_spec(),\n",
        "    fc_layer_params=fc_layer_params)"
      ],
      "execution_count": 15,
      "outputs": []
    },
    {
      "cell_type": "code",
      "metadata": {
        "id": "iIKla9ell8PC"
      },
      "source": [
        "# Define a DQN Agent\n",
        "from tf_agents.agents.dqn import dqn_agent\n",
        "\n",
        "optimizer = tf.compat.v1.train.AdamOptimizer(learning_rate=learning_rate)\n",
        "\n",
        "train_step_counter = tf.Variable(0)\n",
        "\n",
        "agent = dqn_agent.DqnAgent(\n",
        "    train_env.time_step_spec(),\n",
        "    train_env.action_spec(),\n",
        "    q_network=q_net,\n",
        "    optimizer=optimizer,\n",
        "    td_errors_loss_fn=common.element_wise_squared_loss,\n",
        "    train_step_counter=train_step_counter)\n",
        "\n",
        "agent.initialize()"
      ],
      "execution_count": 16,
      "outputs": []
    },
    {
      "cell_type": "code",
      "metadata": {
        "id": "DkKiZSKMl8Mn"
      },
      "source": [
        "# Define eval_policy for evaluation and collect_policy for data collection\n",
        "eval_policy = agent.policy\n",
        "collect_policy = agent.collect_policy"
      ],
      "execution_count": 17,
      "outputs": []
    },
    {
      "cell_type": "markdown",
      "metadata": {
        "id": "-cTTri1UK30F"
      },
      "source": [
        "### Define Metrics and Evaluation "
      ]
    },
    {
      "cell_type": "code",
      "metadata": {
        "id": "qYEuOaSQl8II"
      },
      "source": [
        "#@test {\"skip\": true}\n",
        "def compute_avg_return(environment, policy, num_episodes=10):\n",
        "\n",
        "  total_return = 0.0\n",
        "  for _ in range(num_episodes):\n",
        "\n",
        "    time_step = environment.reset()\n",
        "    episode_return = 0.0\n",
        "\n",
        "    while not time_step.is_last():  \n",
        "      action_step = policy.action(time_step) \n",
        "      time_step = environment.step(action_step.action)\n",
        "      episode_return += time_step.reward \n",
        "    total_return += episode_return \n",
        "\n",
        "  avg_return = total_return / num_episodes \n",
        "  return avg_return.numpy()[0]\n",
        "\n",
        "\n",
        "# See also the metrics module for standard implementations of different metrics.\n",
        "# https://github.com/tensorflow/agents/tree/master/tf_agents/metrics"
      ],
      "execution_count": 18,
      "outputs": []
    },
    {
      "cell_type": "code",
      "metadata": {
        "colab": {
          "base_uri": "https://localhost:8080/"
        },
        "id": "frl6Qj43YE8M",
        "outputId": "80bfd33a-a3dd-4041-ec0c-8e3e5932e261"
      },
      "source": [
        "# Evaluate Random Policy\n",
        "random_policy = random_tf_policy.RandomTFPolicy(train_env.time_step_spec(),\n",
        "                                                train_env.action_spec())\n",
        "compute_avg_return(eval_env, random_policy, num_eval_episodes)"
      ],
      "execution_count": 19,
      "outputs": [
        {
          "output_type": "execute_result",
          "data": {
            "text/plain": [
              "24.1"
            ]
          },
          "metadata": {
            "tags": []
          },
          "execution_count": 19
        }
      ]
    },
    {
      "cell_type": "markdown",
      "metadata": {
        "id": "m9GRlNoOLC5W"
      },
      "source": [
        "### Define replay buffer"
      ]
    },
    {
      "cell_type": "code",
      "metadata": {
        "id": "qArIESTBT-GF"
      },
      "source": [
        "from tf_agents.replay_buffers import tf_uniform_replay_buffer\n",
        "\n",
        "replay_buffer = tf_uniform_replay_buffer.TFUniformReplayBuffer(\n",
        "    data_spec=agent.collect_data_spec, \n",
        "    batch_size=train_env.batch_size, \n",
        "    max_length=replay_buffer_max_length)"
      ],
      "execution_count": 20,
      "outputs": []
    },
    {
      "cell_type": "markdown",
      "metadata": {
        "id": "YARWbeN_LJYJ"
      },
      "source": [
        "### Define data collection"
      ]
    },
    {
      "cell_type": "code",
      "metadata": {
        "id": "89kqjBE_T-AS"
      },
      "source": [
        "#@test {\"skip\": true}\n",
        "def collect_step(environment, policy, buffer):\n",
        "  time_step = environment.current_time_step() \n",
        "  action_step = policy.action(time_step)\n",
        "  next_time_step = environment.step(action_step.action) \n",
        "  traj = trajectory.from_transition(time_step, action_step, next_time_step) \n",
        "\n",
        "  # Add trajectory to the replay buffer\n",
        "  buffer.add_batch(traj)\n",
        "\n",
        "def collect_data(env, policy, buffer, steps):\n",
        "  for _ in range(steps):\n",
        "    collect_step(env, policy, buffer)\n",
        "\n",
        "collect_data(train_env, random_policy, replay_buffer, initial_collect_steps)\n",
        "\n",
        "# This loop is so common in RL, that we provide standard implementations. \n",
        "# For more details see the drivers module.\n",
        "# https://www.tensorflow.org/agents/api_docs/python/tf_agents/drivers"
      ],
      "execution_count": 21,
      "outputs": []
    },
    {
      "cell_type": "markdown",
      "metadata": {
        "id": "z8Pvj8mbLfaX"
      },
      "source": [
        "### Define dataset"
      ]
    },
    {
      "cell_type": "code",
      "metadata": {
        "colab": {
          "base_uri": "https://localhost:8080/"
        },
        "id": "gA9navyEUhoG",
        "outputId": "4a15213c-2bb7-45a9-a6aa-36942af2b9fd"
      },
      "source": [
        "# Dataset generates trajectories with shape [Bx2x...]\n",
        "dataset = replay_buffer.as_dataset(\n",
        "    num_parallel_calls=3, \n",
        "    sample_batch_size=1, \n",
        "    num_steps=2) \n",
        "\n",
        "dataset = dataset.prefetch(3) \n",
        "\n",
        "iterator = iter(dataset)\n",
        "print(iterator.next())"
      ],
      "execution_count": 22,
      "outputs": [
        {
          "output_type": "stream",
          "text": [
            "WARNING:tensorflow:From /usr/local/lib/python3.6/dist-packages/tensorflow/python/autograph/operators/control_flow.py:1004: ReplayBuffer.get_next (from tf_agents.replay_buffers.replay_buffer) is deprecated and will be removed in a future version.\n",
            "Instructions for updating:\n",
            "Use `as_dataset(..., single_deterministic_pass=False) instead.\n",
            "(Trajectory(step_type=<tf.Tensor: shape=(1, 2), dtype=int32, numpy=array([[1, 1]], dtype=int32)>, observation=<tf.Tensor: shape=(1, 2, 4), dtype=float32, numpy=\n",
            "array([[[-0.04196157, -0.3385798 ,  0.05061846,  0.6057687 ],\n",
            "        [-0.04873317, -0.5315016 ,  0.06273384,  0.90965617]]],\n",
            "      dtype=float32)>, action=<tf.Tensor: shape=(1, 2), dtype=int32, numpy=array([[0, 1]], dtype=int32)>, policy_info=(), next_step_type=<tf.Tensor: shape=(1, 2), dtype=int32, numpy=array([[1, 1]], dtype=int32)>, reward=<tf.Tensor: shape=(1, 2), dtype=float32, numpy=array([[1., 1.]], dtype=float32)>, discount=<tf.Tensor: shape=(1, 2), dtype=float32, numpy=array([[1., 1.]], dtype=float32)>), BufferInfo(ids=<tf.Tensor: shape=(1, 2), dtype=int64, numpy=array([[66, 67]])>, probabilities=<tf.Tensor: shape=(1,), dtype=float32, numpy=array([0.01010101], dtype=float32)>))\n"
          ],
          "name": "stdout"
        }
      ]
    },
    {
      "cell_type": "markdown",
      "metadata": {
        "id": "lZt3js0ALmUg"
      },
      "source": [
        "# Train"
      ]
    },
    {
      "cell_type": "code",
      "metadata": {
        "id": "FILylafAkMEx",
        "colab": {
          "base_uri": "https://localhost:8080/"
        },
        "outputId": "cd5908ed-b5af-4133-b8ed-8ee4c9be94f0"
      },
      "source": [
        "#@test {\"skip\": true}\n",
        "try:\n",
        "  %%time\n",
        "except:\n",
        "  pass\n",
        "\n",
        "dataset = replay_buffer.as_dataset(\n",
        "  num_parallel_calls=3, \n",
        "  sample_batch_size=batch_size, \n",
        "  num_steps=2).prefetch(3)\n",
        "iterator = iter(dataset)\n",
        "\n",
        "\n",
        "# (Optional) Optimize by wrapping some of the code in a graph using TF function.\n",
        "agent.train = common.function(agent.train)\n",
        "\n",
        "# Reset the train step\n",
        "agent.train_step_counter.assign(0)\n",
        "\n",
        "# Evaluate the agent's policy once before training.\n",
        "avg_return = compute_avg_return(eval_env, agent.policy, num_eval_episodes)\n",
        "returns = [avg_return]\n",
        "\n",
        "for _ in range(num_iterations):\n",
        "\n",
        "  # Collect a few steps using collect_policy and save to the replay buffer.\n",
        "  collect_data(train_env, agent.collect_policy, replay_buffer, collect_steps_per_iteration)\n",
        "\n",
        "  # Sample a batch of data from the buffer and update the agent's network.\n",
        "  experience, unused_info = next(iterator)\n",
        "  train_loss = agent.train(experience).loss\n",
        "\n",
        "  step = agent.train_step_counter.numpy()\n",
        "\n",
        "  if step % log_interval == 0:\n",
        "    print('step = {0}: loss = {1}'.format(step, train_loss))\n",
        "\n",
        "  if step % eval_interval == 0:\n",
        "    avg_return = compute_avg_return(eval_env, agent.policy, num_eval_episodes)\n",
        "    print('step = {0}: Average Return = {1}'.format(step, avg_return))\n",
        "    returns.append(avg_return)"
      ],
      "execution_count": 23,
      "outputs": [
        {
          "output_type": "stream",
          "text": [
            "CPU times: user 2 µs, sys: 1 µs, total: 3 µs\n",
            "Wall time: 5.48 µs\n",
            "WARNING:tensorflow:From /usr/local/lib/python3.6/dist-packages/tensorflow/python/util/dispatch.py:201: calling foldr_v2 (from tensorflow.python.ops.functional_ops) with back_prop=False is deprecated and will be removed in a future version.\n",
            "Instructions for updating:\n",
            "back_prop=False is deprecated. Consider using tf.stop_gradient instead.\n",
            "Instead of:\n",
            "results = tf.foldr(fn, elems, back_prop=False)\n",
            "Use:\n",
            "results = tf.nest.map_structure(tf.stop_gradient, tf.foldr(fn, elems))\n",
            "step = 200: loss = 10.106096267700195\n",
            "step = 400: loss = 7.125144004821777\n",
            "step = 600: loss = 13.42188835144043\n",
            "step = 800: loss = 3.0201847553253174\n",
            "step = 1000: loss = 26.138404846191406\n",
            "step = 1200: loss = 42.24565887451172\n",
            "step = 1400: loss = 22.142440795898438\n",
            "step = 1600: loss = 20.557594299316406\n",
            "step = 1800: loss = 42.31514358520508\n",
            "step = 2000: loss = 29.429595947265625\n",
            "step = 2000: Average Return = 29.5\n",
            "step = 2200: loss = 6.829575538635254\n",
            "step = 2400: loss = 14.40009880065918\n",
            "step = 2600: loss = 56.709510803222656\n",
            "step = 2800: loss = 16.801599502563477\n",
            "step = 3000: loss = 49.40188980102539\n",
            "step = 3200: loss = 19.236948013305664\n",
            "step = 3400: loss = 15.14858627319336\n",
            "step = 3600: loss = 62.683258056640625\n",
            "step = 3800: loss = 19.19989013671875\n",
            "step = 4000: loss = 31.00140380859375\n",
            "step = 4000: Average Return = 47.599998474121094\n",
            "step = 4200: loss = 27.534069061279297\n",
            "step = 4400: loss = 97.007080078125\n",
            "step = 4600: loss = 4.924652099609375\n",
            "step = 4800: loss = 53.904815673828125\n",
            "step = 5000: loss = 58.165489196777344\n",
            "step = 5200: loss = 37.552188873291016\n",
            "step = 5400: loss = 221.676513671875\n",
            "step = 5600: loss = 188.9932861328125\n",
            "step = 5800: loss = 225.1787567138672\n",
            "step = 6000: loss = 95.95523834228516\n",
            "step = 6000: Average Return = 169.6999969482422\n",
            "step = 6200: loss = 72.14400482177734\n",
            "step = 6400: loss = 54.18684768676758\n",
            "step = 6600: loss = 167.35667419433594\n",
            "step = 6800: loss = 15.041377067565918\n",
            "step = 7000: loss = 215.31175231933594\n",
            "step = 7200: loss = 88.6659164428711\n",
            "step = 7400: loss = 117.15625762939453\n",
            "step = 7600: loss = 20.424468994140625\n",
            "step = 7800: loss = 7.916759014129639\n",
            "step = 8000: loss = 262.1902160644531\n",
            "step = 8000: Average Return = 228.3000030517578\n",
            "step = 8200: loss = 213.6869354248047\n",
            "step = 8400: loss = 318.7483825683594\n",
            "step = 8600: loss = 158.5900421142578\n",
            "step = 8800: loss = 270.0143737792969\n",
            "step = 9000: loss = 260.0775451660156\n",
            "step = 9200: loss = 15.28255558013916\n",
            "step = 9400: loss = 214.51669311523438\n",
            "step = 9600: loss = 154.30093383789062\n",
            "step = 9800: loss = 222.38917541503906\n",
            "step = 10000: loss = 19.630542755126953\n",
            "step = 10000: Average Return = 159.10000610351562\n",
            "step = 10200: loss = 241.37533569335938\n",
            "step = 10400: loss = 251.73655700683594\n",
            "step = 10600: loss = 171.68276977539062\n",
            "step = 10800: loss = 649.965087890625\n",
            "step = 11000: loss = 208.67584228515625\n",
            "step = 11200: loss = 18.18337631225586\n",
            "step = 11400: loss = 209.2523956298828\n",
            "step = 11600: loss = 28.224515914916992\n",
            "step = 11800: loss = 18.800045013427734\n",
            "step = 12000: loss = 186.03244018554688\n",
            "step = 12000: Average Return = 218.3000030517578\n",
            "step = 12200: loss = 12.383699417114258\n",
            "step = 12400: loss = 524.8486328125\n",
            "step = 12600: loss = 195.76296997070312\n",
            "step = 12800: loss = 25.61447525024414\n",
            "step = 13000: loss = 20.39666748046875\n",
            "step = 13200: loss = 444.84259033203125\n",
            "step = 13400: loss = 19.120223999023438\n",
            "step = 13600: loss = 11.715641021728516\n",
            "step = 13800: loss = 19.72119140625\n",
            "step = 14000: loss = 46.38152313232422\n",
            "step = 14000: Average Return = 234.3000030517578\n",
            "step = 14200: loss = 488.7260437011719\n",
            "step = 14400: loss = 25.199657440185547\n",
            "step = 14600: loss = 288.6586608886719\n",
            "step = 14800: loss = 273.0535888671875\n",
            "step = 15000: loss = 14.08893871307373\n",
            "step = 15200: loss = 616.4874877929688\n",
            "step = 15400: loss = 20.408103942871094\n",
            "step = 15600: loss = 19.914051055908203\n",
            "step = 15800: loss = 37.14646530151367\n",
            "step = 16000: loss = 34.541168212890625\n",
            "step = 16000: Average Return = 217.60000610351562\n",
            "step = 16200: loss = 9.563210487365723\n",
            "step = 16400: loss = 21.124385833740234\n",
            "step = 16600: loss = 271.608154296875\n",
            "step = 16800: loss = 29.43278694152832\n",
            "step = 17000: loss = 30.112850189208984\n",
            "step = 17200: loss = 783.7479248046875\n",
            "step = 17400: loss = 30.874948501586914\n",
            "step = 17600: loss = 41.704925537109375\n",
            "step = 17800: loss = 332.80999755859375\n",
            "step = 18000: loss = 22.912277221679688\n",
            "step = 18000: Average Return = 191.6999969482422\n",
            "step = 18200: loss = 24.288185119628906\n",
            "step = 18400: loss = 159.7747039794922\n",
            "step = 18600: loss = 125.47779083251953\n",
            "step = 18800: loss = 216.70053100585938\n",
            "step = 19000: loss = 26.465967178344727\n",
            "step = 19200: loss = 22.68512725830078\n",
            "step = 19400: loss = 33.28194808959961\n",
            "step = 19600: loss = 30.68695640563965\n",
            "step = 19800: loss = 91.68038177490234\n",
            "step = 20000: loss = 22.21578598022461\n",
            "step = 20000: Average Return = 224.5\n",
            "step = 20200: loss = 28.5033016204834\n",
            "step = 20400: loss = 118.95979309082031\n",
            "step = 20600: loss = 40.130374908447266\n",
            "step = 20800: loss = 140.20729064941406\n",
            "step = 21000: loss = 129.122314453125\n",
            "step = 21200: loss = 22.59423828125\n",
            "step = 21400: loss = 356.0451354980469\n",
            "step = 21600: loss = 32.85041046142578\n",
            "step = 21800: loss = 55.788875579833984\n",
            "step = 22000: loss = 953.98388671875\n",
            "step = 22000: Average Return = 282.29998779296875\n",
            "step = 22200: loss = 351.25640869140625\n",
            "step = 22400: loss = 22.15050506591797\n",
            "step = 22600: loss = 202.22726440429688\n",
            "step = 22800: loss = 726.6015014648438\n",
            "step = 23000: loss = 22.336286544799805\n",
            "step = 23200: loss = 458.0960693359375\n",
            "step = 23400: loss = 48.548866271972656\n",
            "step = 23600: loss = 33.79193878173828\n",
            "step = 23800: loss = 32.801979064941406\n",
            "step = 24000: loss = 27.384830474853516\n",
            "step = 24000: Average Return = 241.89999389648438\n",
            "step = 24200: loss = 36.30662155151367\n",
            "step = 24400: loss = 43.95657730102539\n",
            "step = 24600: loss = 15.9239501953125\n",
            "step = 24800: loss = 18.859939575195312\n",
            "step = 25000: loss = 17.115829467773438\n",
            "step = 25200: loss = 80.03730773925781\n",
            "step = 25400: loss = 19.28399085998535\n",
            "step = 25600: loss = 45.754417419433594\n",
            "step = 25800: loss = 167.42453002929688\n",
            "step = 26000: loss = 27.289928436279297\n",
            "step = 26000: Average Return = 290.29998779296875\n",
            "step = 26200: loss = 517.9933471679688\n",
            "step = 26400: loss = 57.914798736572266\n",
            "step = 26600: loss = 306.9200744628906\n",
            "step = 26800: loss = 24.149078369140625\n",
            "step = 27000: loss = 17.323383331298828\n",
            "step = 27200: loss = 628.955322265625\n",
            "step = 27400: loss = 22.039634704589844\n",
            "step = 27600: loss = 205.50379943847656\n",
            "step = 27800: loss = 674.95751953125\n",
            "step = 28000: loss = 27.150306701660156\n",
            "step = 28000: Average Return = 230.60000610351562\n",
            "step = 28200: loss = 933.7799072265625\n",
            "step = 28400: loss = 34.70472717285156\n",
            "step = 28600: loss = 23.819896697998047\n",
            "step = 28800: loss = 27.992015838623047\n",
            "step = 29000: loss = 20.78388214111328\n",
            "step = 29200: loss = 31.305347442626953\n",
            "step = 29400: loss = 26.79686164855957\n",
            "step = 29600: loss = 129.38502502441406\n",
            "step = 29800: loss = 13.955791473388672\n",
            "step = 30000: loss = 18.43548583984375\n",
            "step = 30000: Average Return = 250.6999969482422\n",
            "step = 30200: loss = 15.102119445800781\n",
            "step = 30400: loss = 36.84534454345703\n",
            "step = 30600: loss = 34.30246353149414\n",
            "step = 30800: loss = 54.834136962890625\n",
            "step = 31000: loss = 61.487632751464844\n",
            "step = 31200: loss = 33.1507568359375\n",
            "step = 31400: loss = 38.873146057128906\n",
            "step = 31600: loss = 21.114084243774414\n",
            "step = 31800: loss = 33.67811965942383\n",
            "step = 32000: loss = 32.698638916015625\n",
            "step = 32000: Average Return = 252.3000030517578\n",
            "step = 32200: loss = 31.349456787109375\n",
            "step = 32400: loss = 458.24005126953125\n",
            "step = 32600: loss = 61.031898498535156\n",
            "step = 32800: loss = 34.04750442504883\n",
            "step = 33000: loss = 33.97039031982422\n",
            "step = 33200: loss = 47.363773345947266\n",
            "step = 33400: loss = 34.7238883972168\n",
            "step = 33600: loss = 39.13709259033203\n",
            "step = 33800: loss = 51.21656036376953\n",
            "step = 34000: loss = 907.60302734375\n",
            "step = 34000: Average Return = 301.8999938964844\n",
            "step = 34200: loss = 102.16452026367188\n",
            "step = 34400: loss = 24.96755599975586\n",
            "step = 34600: loss = 61.27374267578125\n",
            "step = 34800: loss = 40.908447265625\n",
            "step = 35000: loss = 35.964359283447266\n",
            "step = 35200: loss = 37.10552978515625\n",
            "step = 35400: loss = 73.2568588256836\n",
            "step = 35600: loss = 1012.2683715820312\n",
            "step = 35800: loss = 68.83992767333984\n",
            "step = 36000: loss = 46.636573791503906\n",
            "step = 36000: Average Return = 317.5\n",
            "step = 36200: loss = 3200.12109375\n",
            "step = 36400: loss = 50.40446472167969\n",
            "step = 36600: loss = 47.49781036376953\n",
            "step = 36800: loss = 92.01643371582031\n",
            "step = 37000: loss = 44.424381256103516\n",
            "step = 37200: loss = 58.78899383544922\n",
            "step = 37400: loss = 1989.402099609375\n",
            "step = 37600: loss = 1706.388427734375\n",
            "step = 37800: loss = 1154.3184814453125\n",
            "step = 38000: loss = 1213.4920654296875\n",
            "step = 38000: Average Return = 369.29998779296875\n",
            "step = 38200: loss = 907.0413208007812\n",
            "step = 38400: loss = 45.899322509765625\n",
            "step = 38600: loss = 995.0979614257812\n",
            "step = 38800: loss = 1466.962158203125\n",
            "step = 39000: loss = 48.8131103515625\n",
            "step = 39200: loss = 49.021060943603516\n",
            "step = 39400: loss = 282.88543701171875\n",
            "step = 39600: loss = 45.322776794433594\n",
            "step = 39800: loss = 1277.593994140625\n",
            "step = 40000: loss = 38.723209381103516\n",
            "step = 40000: Average Return = 380.79998779296875\n",
            "step = 40200: loss = 50.667823791503906\n",
            "step = 40400: loss = 430.0407409667969\n",
            "step = 40600: loss = 119.10399627685547\n",
            "step = 40800: loss = 969.39892578125\n",
            "step = 41000: loss = 316.08740234375\n",
            "step = 41200: loss = 484.9419860839844\n",
            "step = 41400: loss = 93.90901947021484\n",
            "step = 41600: loss = 50.450897216796875\n",
            "step = 41800: loss = 1941.3367919921875\n",
            "step = 42000: loss = 313.8787841796875\n",
            "step = 42000: Average Return = 376.0\n",
            "step = 42200: loss = 55.099464416503906\n",
            "step = 42400: loss = 104.60581970214844\n",
            "step = 42600: loss = 147.5000762939453\n",
            "step = 42800: loss = 41.91808319091797\n",
            "step = 43000: loss = 31.169208526611328\n",
            "step = 43200: loss = 813.2071533203125\n",
            "step = 43400: loss = 91.55812072753906\n",
            "step = 43600: loss = 2021.384521484375\n",
            "step = 43800: loss = 2909.09912109375\n",
            "step = 44000: loss = 52.92927169799805\n",
            "step = 44000: Average Return = 326.79998779296875\n",
            "step = 44200: loss = 61.68383026123047\n",
            "step = 44400: loss = 54.56439971923828\n",
            "step = 44600: loss = 115.11671447753906\n",
            "step = 44800: loss = 368.612060546875\n",
            "step = 45000: loss = 69.96824645996094\n",
            "step = 45200: loss = 60.821441650390625\n",
            "step = 45400: loss = 46.48674774169922\n",
            "step = 45600: loss = 37.480499267578125\n",
            "step = 45800: loss = 1799.751953125\n",
            "step = 46000: loss = 3629.57763671875\n",
            "step = 46000: Average Return = 302.3999938964844\n",
            "step = 46200: loss = 1887.385009765625\n",
            "step = 46400: loss = 73.04261779785156\n",
            "step = 46600: loss = 73.86659240722656\n",
            "step = 46800: loss = 66.92695617675781\n",
            "step = 47000: loss = 88.70429229736328\n",
            "step = 47200: loss = 102.61225891113281\n",
            "step = 47400: loss = 62.50984191894531\n",
            "step = 47600: loss = 499.7554626464844\n",
            "step = 47800: loss = 669.3702392578125\n",
            "step = 48000: loss = 85.6224136352539\n",
            "step = 48000: Average Return = 318.8999938964844\n",
            "step = 48200: loss = 108.7231216430664\n",
            "step = 48400: loss = 860.9839477539062\n",
            "step = 48600: loss = 74.45011901855469\n",
            "step = 48800: loss = 86.75462341308594\n",
            "step = 49000: loss = 505.07110595703125\n",
            "step = 49200: loss = 51.006195068359375\n",
            "step = 49400: loss = 911.20849609375\n",
            "step = 49600: loss = 918.6665649414062\n",
            "step = 49800: loss = 144.27452087402344\n",
            "step = 50000: loss = 82.23377990722656\n",
            "step = 50000: Average Return = 326.0\n",
            "step = 50200: loss = 126.23662567138672\n",
            "step = 50400: loss = 122.06397247314453\n",
            "step = 50600: loss = 50.74517822265625\n",
            "step = 50800: loss = 69.57296752929688\n",
            "step = 51000: loss = 85.04438018798828\n",
            "step = 51200: loss = 83.29292297363281\n",
            "step = 51400: loss = 51.32085037231445\n",
            "step = 51600: loss = 61.304931640625\n",
            "step = 51800: loss = 78.73672485351562\n",
            "step = 52000: loss = 98.41899108886719\n",
            "step = 52000: Average Return = 296.29998779296875\n",
            "step = 52200: loss = 295.0840148925781\n",
            "step = 52400: loss = 115.33147430419922\n",
            "step = 52600: loss = 83.72554016113281\n",
            "step = 52800: loss = 39.277305603027344\n",
            "step = 53000: loss = 136.3241424560547\n",
            "step = 53200: loss = 3512.72265625\n",
            "step = 53400: loss = 88.38954162597656\n",
            "step = 53600: loss = 108.66020202636719\n",
            "step = 53800: loss = 203.3580322265625\n",
            "step = 54000: loss = 176.27337646484375\n",
            "step = 54000: Average Return = 382.0\n",
            "step = 54200: loss = 92.5533447265625\n",
            "step = 54400: loss = 512.0477905273438\n",
            "step = 54600: loss = 230.17752075195312\n",
            "step = 54800: loss = 117.71809387207031\n",
            "step = 55000: loss = 3885.290771484375\n",
            "step = 55200: loss = 119.26444244384766\n",
            "step = 55400: loss = 137.85311889648438\n",
            "step = 55600: loss = 7822.72265625\n",
            "step = 55800: loss = 171.57359313964844\n",
            "step = 56000: loss = 151.11196899414062\n",
            "step = 56000: Average Return = 369.70001220703125\n",
            "step = 56200: loss = 2976.036865234375\n",
            "step = 56400: loss = 135.2190704345703\n",
            "step = 56600: loss = 152.9171142578125\n",
            "step = 56800: loss = 164.38584899902344\n",
            "step = 57000: loss = 113.8534927368164\n",
            "step = 57200: loss = 154.92466735839844\n",
            "step = 57400: loss = 136.25973510742188\n",
            "step = 57600: loss = 467.7545166015625\n",
            "step = 57800: loss = 201.40530395507812\n",
            "step = 58000: loss = 2578.061767578125\n",
            "step = 58000: Average Return = 363.29998779296875\n",
            "step = 58200: loss = 165.36810302734375\n",
            "step = 58400: loss = 226.16622924804688\n",
            "step = 58600: loss = 195.95065307617188\n",
            "step = 58800: loss = 114.27969360351562\n",
            "step = 59000: loss = 150.6300048828125\n",
            "step = 59200: loss = 3536.6240234375\n",
            "step = 59400: loss = 149.57723999023438\n",
            "step = 59600: loss = 153.73947143554688\n",
            "step = 59800: loss = 116.33390045166016\n",
            "step = 60000: loss = 219.22171020507812\n",
            "step = 60000: Average Return = 362.8999938964844\n",
            "step = 60200: loss = 91.02346801757812\n",
            "step = 60400: loss = 81.80215454101562\n",
            "step = 60600: loss = 128.66090393066406\n",
            "step = 60800: loss = 525.6233520507812\n",
            "step = 61000: loss = 139.99465942382812\n",
            "step = 61200: loss = 143.36904907226562\n",
            "step = 61400: loss = 123.10548400878906\n",
            "step = 61600: loss = 96.44664001464844\n",
            "step = 61800: loss = 59.383209228515625\n",
            "step = 62000: loss = 4258.39453125\n",
            "step = 62000: Average Return = 373.8999938964844\n",
            "step = 62200: loss = 83.36055755615234\n",
            "step = 62400: loss = 548.8953857421875\n",
            "step = 62600: loss = 93.24207305908203\n",
            "step = 62800: loss = 100.41554260253906\n",
            "step = 63000: loss = 97.91865539550781\n",
            "step = 63200: loss = 130.29885864257812\n",
            "step = 63400: loss = 151.13180541992188\n",
            "step = 63600: loss = 110.4404296875\n",
            "step = 63800: loss = 1381.6505126953125\n",
            "step = 64000: loss = 1312.3990478515625\n",
            "step = 64000: Average Return = 365.6000061035156\n",
            "step = 64200: loss = 116.25010681152344\n",
            "step = 64400: loss = 205.67642211914062\n",
            "step = 64600: loss = 2805.74462890625\n",
            "step = 64800: loss = 162.73458862304688\n",
            "step = 65000: loss = 147.2849578857422\n",
            "step = 65200: loss = 3656.71240234375\n",
            "step = 65400: loss = 5459.28271484375\n",
            "step = 65600: loss = 7026.67919921875\n",
            "step = 65800: loss = 125.88299560546875\n",
            "step = 66000: loss = 12601.7734375\n",
            "step = 66000: Average Return = 325.29998779296875\n",
            "step = 66200: loss = 337.205322265625\n",
            "step = 66400: loss = 208.93014526367188\n",
            "step = 66600: loss = 4354.64697265625\n",
            "step = 66800: loss = 152.4200439453125\n",
            "step = 67000: loss = 4047.405517578125\n",
            "step = 67200: loss = 141.3163604736328\n",
            "step = 67400: loss = 161.44775390625\n",
            "step = 67600: loss = 1255.679443359375\n",
            "step = 67800: loss = 137.00921630859375\n",
            "step = 68000: loss = 1921.953125\n",
            "step = 68000: Average Return = 466.5\n",
            "step = 68200: loss = 256.82611083984375\n",
            "step = 68400: loss = 7955.8203125\n",
            "step = 68600: loss = 98.47346496582031\n",
            "step = 68800: loss = 263.1140441894531\n",
            "step = 69000: loss = 89.68531036376953\n",
            "step = 69200: loss = 1029.0849609375\n",
            "step = 69400: loss = 90.55775451660156\n",
            "step = 69600: loss = 215.77243041992188\n",
            "step = 69800: loss = 113.15752410888672\n",
            "step = 70000: loss = 5580.81103515625\n",
            "step = 70000: Average Return = 397.5\n",
            "step = 70200: loss = 165.85708618164062\n",
            "step = 70400: loss = 123.1194839477539\n",
            "step = 70600: loss = 209.45620727539062\n",
            "step = 70800: loss = 188.37551879882812\n",
            "step = 71000: loss = 137.22645568847656\n",
            "step = 71200: loss = 186.6334991455078\n",
            "step = 71400: loss = 170.40316772460938\n",
            "step = 71600: loss = 130.65231323242188\n",
            "step = 71800: loss = 92.80828857421875\n",
            "step = 72000: loss = 203.33853149414062\n",
            "step = 72000: Average Return = 396.6000061035156\n",
            "step = 72200: loss = 3944.2861328125\n",
            "step = 72400: loss = 147.36819458007812\n",
            "step = 72600: loss = 854.9735717773438\n",
            "step = 72800: loss = 3602.7255859375\n",
            "step = 73000: loss = 100.77345275878906\n",
            "step = 73200: loss = 142.05860900878906\n",
            "step = 73400: loss = 2410.216064453125\n",
            "step = 73600: loss = 175.6552276611328\n",
            "step = 73800: loss = 163.176513671875\n",
            "step = 74000: loss = 227.35223388671875\n",
            "step = 74000: Average Return = 432.8999938964844\n",
            "step = 74200: loss = 192.53334045410156\n",
            "step = 74400: loss = 141.18170166015625\n",
            "step = 74600: loss = 290.1956787109375\n",
            "step = 74800: loss = 145.8987274169922\n",
            "step = 75000: loss = 177.2103271484375\n",
            "step = 75200: loss = 292.81353759765625\n",
            "step = 75400: loss = 42.56825637817383\n",
            "step = 75600: loss = 93.88191223144531\n",
            "step = 75800: loss = 5966.01220703125\n",
            "step = 76000: loss = 216.60321044921875\n",
            "step = 76000: Average Return = 422.3999938964844\n",
            "step = 76200: loss = 1463.361083984375\n",
            "step = 76400: loss = 217.67689514160156\n",
            "step = 76600: loss = 282.9210510253906\n",
            "step = 76800: loss = 125.03768920898438\n",
            "step = 77000: loss = 325.5450439453125\n",
            "step = 77200: loss = 151.50863647460938\n",
            "step = 77400: loss = 370.62139892578125\n",
            "step = 77600: loss = 1364.269287109375\n",
            "step = 77800: loss = 142.54736328125\n",
            "step = 78000: loss = 102.46574401855469\n",
            "step = 78000: Average Return = 400.5\n",
            "step = 78200: loss = 124.62547302246094\n",
            "step = 78400: loss = 153.4645233154297\n",
            "step = 78600: loss = 121.81189727783203\n",
            "step = 78800: loss = 164.92965698242188\n",
            "step = 79000: loss = 5945.23974609375\n",
            "step = 79200: loss = 178.6383819580078\n",
            "step = 79400: loss = 249.67327880859375\n",
            "step = 79600: loss = 7765.0869140625\n",
            "step = 79800: loss = 1810.423828125\n",
            "step = 80000: loss = 229.12710571289062\n",
            "step = 80000: Average Return = 415.29998779296875\n",
            "step = 80200: loss = 174.7686767578125\n",
            "step = 80400: loss = 205.4174346923828\n",
            "step = 80600: loss = 173.68630981445312\n",
            "step = 80800: loss = 127.45936584472656\n",
            "step = 81000: loss = 3121.646240234375\n",
            "step = 81200: loss = 234.58444213867188\n",
            "step = 81400: loss = 319.32867431640625\n",
            "step = 81600: loss = 122.27648162841797\n",
            "step = 81800: loss = 115.38784790039062\n",
            "step = 82000: loss = 240.27767944335938\n",
            "step = 82000: Average Return = 445.0\n",
            "step = 82200: loss = 183.14102172851562\n",
            "step = 82400: loss = 369.99481201171875\n",
            "step = 82600: loss = 575.935302734375\n",
            "step = 82800: loss = 301.03271484375\n",
            "step = 83000: loss = 217.03741455078125\n",
            "step = 83200: loss = 184.50961303710938\n",
            "step = 83400: loss = 14364.6689453125\n",
            "step = 83600: loss = 299.2813720703125\n",
            "step = 83800: loss = 228.89181518554688\n",
            "step = 84000: loss = 343.61175537109375\n",
            "step = 84000: Average Return = 444.6000061035156\n",
            "step = 84200: loss = 132.76251220703125\n",
            "step = 84400: loss = 2262.57177734375\n",
            "step = 84600: loss = 400.2557373046875\n",
            "step = 84800: loss = 397.40582275390625\n",
            "step = 85000: loss = 411.341552734375\n",
            "step = 85200: loss = 480.9060363769531\n",
            "step = 85400: loss = 433.7739562988281\n",
            "step = 85600: loss = 246.18685913085938\n",
            "step = 85800: loss = 264.72845458984375\n",
            "step = 86000: loss = 267.37786865234375\n",
            "step = 86000: Average Return = 468.5\n",
            "step = 86200: loss = 407.43060302734375\n",
            "step = 86400: loss = 272.0084228515625\n",
            "step = 86600: loss = 438.0493469238281\n",
            "step = 86800: loss = 187.43675231933594\n",
            "step = 87000: loss = 17118.837890625\n",
            "step = 87200: loss = 243.96592712402344\n",
            "step = 87400: loss = 294.78887939453125\n",
            "step = 87600: loss = 215.86268615722656\n",
            "step = 87800: loss = 317.76043701171875\n",
            "step = 88000: loss = 5066.63623046875\n",
            "step = 88000: Average Return = 500.0\n",
            "step = 88200: loss = 422.09814453125\n",
            "step = 88400: loss = 3397.04736328125\n",
            "step = 88600: loss = 383.3907165527344\n",
            "step = 88800: loss = 305.25860595703125\n",
            "step = 89000: loss = 304.469482421875\n",
            "step = 89200: loss = 407.2250061035156\n",
            "step = 89400: loss = 366.08978271484375\n",
            "step = 89600: loss = 16653.330078125\n",
            "step = 89800: loss = 214.0599365234375\n",
            "step = 90000: loss = 540.888427734375\n",
            "step = 90000: Average Return = 463.8999938964844\n",
            "step = 90200: loss = 304.4499816894531\n",
            "step = 90400: loss = 306.25439453125\n",
            "step = 90600: loss = 415.20703125\n",
            "step = 90800: loss = 316.9056396484375\n",
            "step = 91000: loss = 291.67352294921875\n",
            "step = 91200: loss = 19352.302734375\n",
            "step = 91400: loss = 13756.6806640625\n",
            "step = 91600: loss = 15632.8544921875\n",
            "step = 91800: loss = 371.9326171875\n",
            "step = 92000: loss = 7144.880859375\n",
            "step = 92000: Average Return = 448.8999938964844\n",
            "step = 92200: loss = 1477.014892578125\n",
            "step = 92400: loss = 661.6058959960938\n",
            "step = 92600: loss = 34015.3125\n",
            "step = 92800: loss = 274.1819152832031\n",
            "step = 93000: loss = 214.63528442382812\n",
            "step = 93200: loss = 964.291259765625\n",
            "step = 93400: loss = 272.06768798828125\n",
            "step = 93600: loss = 649.4935302734375\n",
            "step = 93800: loss = 11077.861328125\n",
            "step = 94000: loss = 471.095458984375\n",
            "step = 94000: Average Return = 466.6000061035156\n",
            "step = 94200: loss = 121.88938903808594\n",
            "step = 94400: loss = 408.7900390625\n",
            "step = 94600: loss = 152.96054077148438\n",
            "step = 94800: loss = 161.34219360351562\n",
            "step = 95000: loss = 2515.91455078125\n",
            "step = 95200: loss = 494.337158203125\n",
            "step = 95400: loss = 297.28253173828125\n",
            "step = 95600: loss = 616.7693481445312\n",
            "step = 95800: loss = 138.0388641357422\n",
            "step = 96000: loss = 152.58111572265625\n",
            "step = 96000: Average Return = 392.70001220703125\n",
            "step = 96200: loss = 222.97201538085938\n",
            "step = 96400: loss = 320.8880920410156\n",
            "step = 96600: loss = 499.6678466796875\n",
            "step = 96800: loss = 398.3028259277344\n",
            "step = 97000: loss = 239.8517608642578\n",
            "step = 97200: loss = 188.10028076171875\n",
            "step = 97400: loss = 349.7257080078125\n",
            "step = 97600: loss = 8645.4970703125\n",
            "step = 97800: loss = 413.01434326171875\n",
            "step = 98000: loss = 332.8887023925781\n",
            "step = 98000: Average Return = 387.0\n",
            "step = 98200: loss = 362.494873046875\n",
            "step = 98400: loss = 4908.693359375\n",
            "step = 98600: loss = 238.16207885742188\n",
            "step = 98800: loss = 165.55545043945312\n",
            "step = 99000: loss = 2548.68994140625\n",
            "step = 99200: loss = 210.4825897216797\n",
            "step = 99400: loss = 203.69151306152344\n",
            "step = 99600: loss = 198.85784912109375\n",
            "step = 99800: loss = 472.9333801269531\n",
            "step = 100000: loss = 206.58468627929688\n",
            "step = 100000: Average Return = 428.20001220703125\n"
          ],
          "name": "stdout"
        }
      ]
    },
    {
      "cell_type": "code",
      "metadata": {
        "id": "cLMPSy1wYfSR"
      },
      "source": [
        ""
      ],
      "execution_count": 23,
      "outputs": []
    },
    {
      "cell_type": "markdown",
      "metadata": {
        "id": "i4oltEedYlhX"
      },
      "source": [
        "# Evaluation"
      ]
    },
    {
      "cell_type": "code",
      "metadata": {
        "colab": {
          "base_uri": "https://localhost:8080/"
        },
        "id": "mXyfXYpeYkyX",
        "outputId": "c6e7b2a4-81a2-4c06-98ca-2aeee8777399"
      },
      "source": [
        "eval_py_env = CustomCartPoleEnv(mu=0.0, sigma = 0.5)\n",
        "eval_py_env = wrappers.TimeLimit(eval_py_env, 500)\n",
        "eval_env = tf_py_environment.TFPyEnvironment(eval_py_env)\n",
        "\n",
        "compute_avg_return(eval_env, agent.policy, num_eval_episodes)"
      ],
      "execution_count": 24,
      "outputs": [
        {
          "output_type": "execute_result",
          "data": {
            "text/plain": [
              "442.2"
            ]
          },
          "metadata": {
            "tags": []
          },
          "execution_count": 24
        }
      ]
    },
    {
      "cell_type": "markdown",
      "metadata": {
        "id": "A4tzfaswMBUK"
      },
      "source": [
        "# Test Target tasks with Different Dynamics "
      ]
    },
    {
      "cell_type": "code",
      "metadata": {
        "colab": {
          "base_uri": "https://localhost:8080/"
        },
        "id": "1s7a9I_VPV1n",
        "outputId": "c8329f84-4c86-4e45-a83e-bc284db59a4f"
      },
      "source": [
        "# we assume that mu is same between source and target (i.e. mu=0.0)\n",
        "sigmas = [0.0, 1.0, 3.0, 5.0, 10.0]\n",
        "for sigma in sigmas :\n",
        "  trg_py_env = CustomCartPoleEnv(mu=0.0, sigma = sigma)\n",
        "  trg_py_env = wrappers.TimeLimit(trg_py_env, 500)\n",
        "  trg_env = tf_py_environment.TFPyEnvironment(trg_py_env)\n",
        "  avg = compute_avg_return(trg_env, agent.policy, num_eval_episodes)\n",
        "  print (sigma, '->', avg)"
      ],
      "execution_count": 25,
      "outputs": [
        {
          "output_type": "stream",
          "text": [
            "0.0 -> 382.1\n",
            "1.0 -> 386.7\n",
            "3.0 -> 407.0\n",
            "5.0 -> 398.1\n",
            "10.0 -> 365.1\n"
          ],
          "name": "stdout"
        }
      ]
    },
    {
      "cell_type": "markdown",
      "metadata": {
        "id": "RRLnE35ALw1N"
      },
      "source": [
        "# Visualization"
      ]
    },
    {
      "cell_type": "markdown",
      "metadata": {
        "id": "BOBS12v7Y8lm"
      },
      "source": [
        "### Plot"
      ]
    },
    {
      "cell_type": "code",
      "metadata": {
        "id": "AJxEoZ4HoyjR",
        "colab": {
          "base_uri": "https://localhost:8080/",
          "height": 296
        },
        "outputId": "8b95d65e-4339-48fb-e343-fb29895d4feb"
      },
      "source": [
        "#@test {\"skip\": true}\n",
        "\n",
        "iterations = range(0, num_iterations + 1, eval_interval)\n",
        "plt.plot(iterations, returns)\n",
        "plt.ylabel('Average Return')\n",
        "plt.xlabel('Iterations')\n",
        "plt.ylim(top=550)"
      ],
      "execution_count": 26,
      "outputs": [
        {
          "output_type": "execute_result",
          "data": {
            "text/plain": [
              "(5.974999999999998, 550.0)"
            ]
          },
          "metadata": {
            "tags": []
          },
          "execution_count": 26
        },
        {
          "output_type": "display_data",
          "data": {
            "image/png": "[encoded data removed]",
            "text/plain": [
              "<Figure size 432x288 with 1 Axes>"
            ]
          },
          "metadata": {
            "tags": [],
            "needs_background": "light"
          }
        }
      ]
    },
    {
      "cell_type": "markdown",
      "metadata": {
        "id": "BE8jLTxEL30m"
      },
      "source": [
        "### Videos"
      ]
    },
    {
      "cell_type": "code",
      "metadata": {
        "id": "WKBDDZqKTxsL"
      },
      "source": [
        "def embed_mp4(filename):\n",
        "  \"\"\"Embeds an mp4 file in the notebook.\"\"\"\n",
        "  video = open(filename,'rb').read()\n",
        "  b64 = base64.b64encode(video)\n",
        "  tag = '''\n",
        "  <video width=\"640\" height=\"480\" controls>\n",
        "    <source src=\"data:video/mp4;base64,{0}\" type=\"video/mp4\">\n",
        "  Your browser does not support the video tag.\n",
        "  </video>'''.format(b64.decode())\n",
        "\n",
        "  return IPython.display.HTML(tag)"
      ],
      "execution_count": 27,
      "outputs": []
    },
    {
      "cell_type": "code",
      "metadata": {
        "id": "UYerqyNfnVRL",
        "colab": {
          "base_uri": "https://localhost:8080/",
          "height": 537
        },
        "outputId": "de00c65c-5cb1-4cba-f84d-bc182c182ce6"
      },
      "source": [
        "def create_policy_eval_video(policy, filename, num_episodes=5, fps=30):\n",
        "  filename = filename + \".mp4\"\n",
        "  with imageio.get_writer(filename, fps=fps) as video:\n",
        "    for _ in range(num_episodes):\n",
        "      time_step = eval_env.reset()\n",
        "      video.append_data(eval_env.render()[0].numpy())\n",
        "      while not time_step.is_last():\n",
        "        action_step = policy.action(time_step)\n",
        "        time_step = eval_env.step(action_step.action)\n",
        "        video.append_data(eval_env.render()[0].numpy())\n",
        "  return embed_mp4(filename)\n",
        "\n",
        "\n",
        "create_policy_eval_video(agent.policy, \"trained-agent\")"
      ],
      "execution_count": 28,
      "outputs": [
        {
          "output_type": "stream",
          "text": [
            "WARNING:root:IMAGEIO FFMPEG_WRITER WARNING: input image is not divisible by macro_block_size=16, resizing from (400, 600) to (400, 608) to ensure video compatibility with most codecs and players. To prevent resizing, make your input image divisible by the macro_block_size or set the macro_block_size to None (risking incompatibility). You may also see a FFMPEG warning concerning speedloss due to data not being aligned.\n"
          ],
          "name": "stderr"
        },
        {
          "output_type": "execute_result",
          "data": {
            "text/html": [
              "\n",
              "  <video width=\"640\" height=\"480\" controls>\n",
              "    <source src=\"data:video/mp4;base64,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\" type=\"video/mp4\">\n",
              "  Your browser does not support the video tag.\n",
              "  </video>"
            ],
            "text/plain": [
              "<IPython.core.display.HTML object>"
            ]
          },
          "metadata": {
            "tags": []
          },
          "execution_count": 28
        }
      ]
    }
  ]
}